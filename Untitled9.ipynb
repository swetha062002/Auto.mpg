{
  "nbformat": 4,
  "nbformat_minor": 0,
  "metadata": {
    "colab": {
      "name": "Untitled9.ipynb",
      "provenance": []
    },
    "kernelspec": {
      "name": "python3",
      "display_name": "Python 3"
    },
    "language_info": {
      "name": "python"
    }
  },
  "cells": [
    {
      "cell_type": "code",
      "execution_count": 23,
      "metadata": {
        "id": "050KQmmHfJjP"
      },
      "outputs": [],
      "source": [
        "import pandas as pd\n",
        "import seaborn as sns\n",
        "import matplotlib.pyplot as plt\n",
        "import pandas as pd\n",
        "import numpy as np\n",
        "import seaborn as sns\n",
        "from scipy import stats\n",
        "import matplotlib.pyplot as plt\n",
        "from scipy import stats\n",
        "from scipy.stats import pearsonr\n",
        "from sklearn.model_selection import train_test_split\n",
        "from sklearn.preprocessing import MinMaxScaler\n",
        "from sklearn.linear_model import LinearRegression\n",
        "from sklearn.linear_model import LogisticRegression\n",
        "from sklearn.tree import DecisionTreeRegressor\n",
        "from sklearn.tree import DecisionTreeClassifier\n",
        "from sklearn.ensemble import RandomForestRegressor\n",
        "from sklearn.ensemble import RandomForestClassifier\n",
        "from sklearn.ensemble import GradientBoostingRegressor\n",
        "from sklearn.ensemble import GradientBoostingClassifier\n",
        "from sklearn.ensemble import AdaBoostRegressor\n",
        "from sklearn.ensemble import AdaBoostClassifier\n",
        "from sklearn.metrics import mean_squared_error\n",
        "from sklearn.metrics import accuracy_score\n",
        "from sklearn.metrics import r2_score\n",
        "from sklearn.impute import SimpleImputer\n",
        "from sklearn import svm\n",
        "from sklearn.neighbors import KNeighborsClassifier"
      ]
    },
    {
      "cell_type": "code",
      "source": [
        "data=pd.read_csv(\"https://archive.ics.uci.edu/ml/machine-learning-databases/autos/imports-85.data\",header=None,na_values=\"?\") \n",
        "data.head()\n"
      ],
      "metadata": {
        "colab": {
          "base_uri": "https://localhost:8080/",
          "height": 236
        },
        "id": "ArSyQ2WgkLoM",
        "outputId": "c83062e9-72c9-4a33-bb24-b8a18d9efaa8"
      },
      "execution_count": 104,
      "outputs": [
        {
          "output_type": "execute_result",
          "data": {
            "text/plain": [
              "   0      1            2    3    4     5            6    7      8     9   ...  \\\n",
              "0   3    NaN  alfa-romero  gas  std   two  convertible  rwd  front  88.6  ...   \n",
              "1   3    NaN  alfa-romero  gas  std   two  convertible  rwd  front  88.6  ...   \n",
              "2   1    NaN  alfa-romero  gas  std   two    hatchback  rwd  front  94.5  ...   \n",
              "3   2  164.0         audi  gas  std  four        sedan  fwd  front  99.8  ...   \n",
              "4   2  164.0         audi  gas  std  four        sedan  4wd  front  99.4  ...   \n",
              "\n",
              "    16    17    18    19    20     21      22  23  24       25  \n",
              "0  130  mpfi  3.47  2.68   9.0  111.0  5000.0  21  27  13495.0  \n",
              "1  130  mpfi  3.47  2.68   9.0  111.0  5000.0  21  27  16500.0  \n",
              "2  152  mpfi  2.68  3.47   9.0  154.0  5000.0  19  26  16500.0  \n",
              "3  109  mpfi  3.19  3.40  10.0  102.0  5500.0  24  30  13950.0  \n",
              "4  136  mpfi  3.19  3.40   8.0  115.0  5500.0  18  22  17450.0  \n",
              "\n",
              "[5 rows x 26 columns]"
            ],
            "text/html": [
              "\n",
              "  <div id=\"df-44a1d898-3b67-4694-96ca-bd84e08a0e16\">\n",
              "    <div class=\"colab-df-container\">\n",
              "      <div>\n",
              "<style scoped>\n",
              "    .dataframe tbody tr th:only-of-type {\n",
              "        vertical-align: middle;\n",
              "    }\n",
              "\n",
              "    .dataframe tbody tr th {\n",
              "        vertical-align: top;\n",
              "    }\n",
              "\n",
              "    .dataframe thead th {\n",
              "        text-align: right;\n",
              "    }\n",
              "</style>\n",
              "<table border=\"1\" class=\"dataframe\">\n",
              "  <thead>\n",
              "    <tr style=\"text-align: right;\">\n",
              "      <th></th>\n",
              "      <th>0</th>\n",
              "      <th>1</th>\n",
              "      <th>2</th>\n",
              "      <th>3</th>\n",
              "      <th>4</th>\n",
              "      <th>5</th>\n",
              "      <th>6</th>\n",
              "      <th>7</th>\n",
              "      <th>8</th>\n",
              "      <th>9</th>\n",
              "      <th>...</th>\n",
              "      <th>16</th>\n",
              "      <th>17</th>\n",
              "      <th>18</th>\n",
              "      <th>19</th>\n",
              "      <th>20</th>\n",
              "      <th>21</th>\n",
              "      <th>22</th>\n",
              "      <th>23</th>\n",
              "      <th>24</th>\n",
              "      <th>25</th>\n",
              "    </tr>\n",
              "  </thead>\n",
              "  <tbody>\n",
              "    <tr>\n",
              "      <th>0</th>\n",
              "      <td>3</td>\n",
              "      <td>NaN</td>\n",
              "      <td>alfa-romero</td>\n",
              "      <td>gas</td>\n",
              "      <td>std</td>\n",
              "      <td>two</td>\n",
              "      <td>convertible</td>\n",
              "      <td>rwd</td>\n",
              "      <td>front</td>\n",
              "      <td>88.6</td>\n",
              "      <td>...</td>\n",
              "      <td>130</td>\n",
              "      <td>mpfi</td>\n",
              "      <td>3.47</td>\n",
              "      <td>2.68</td>\n",
              "      <td>9.0</td>\n",
              "      <td>111.0</td>\n",
              "      <td>5000.0</td>\n",
              "      <td>21</td>\n",
              "      <td>27</td>\n",
              "      <td>13495.0</td>\n",
              "    </tr>\n",
              "    <tr>\n",
              "      <th>1</th>\n",
              "      <td>3</td>\n",
              "      <td>NaN</td>\n",
              "      <td>alfa-romero</td>\n",
              "      <td>gas</td>\n",
              "      <td>std</td>\n",
              "      <td>two</td>\n",
              "      <td>convertible</td>\n",
              "      <td>rwd</td>\n",
              "      <td>front</td>\n",
              "      <td>88.6</td>\n",
              "      <td>...</td>\n",
              "      <td>130</td>\n",
              "      <td>mpfi</td>\n",
              "      <td>3.47</td>\n",
              "      <td>2.68</td>\n",
              "      <td>9.0</td>\n",
              "      <td>111.0</td>\n",
              "      <td>5000.0</td>\n",
              "      <td>21</td>\n",
              "      <td>27</td>\n",
              "      <td>16500.0</td>\n",
              "    </tr>\n",
              "    <tr>\n",
              "      <th>2</th>\n",
              "      <td>1</td>\n",
              "      <td>NaN</td>\n",
              "      <td>alfa-romero</td>\n",
              "      <td>gas</td>\n",
              "      <td>std</td>\n",
              "      <td>two</td>\n",
              "      <td>hatchback</td>\n",
              "      <td>rwd</td>\n",
              "      <td>front</td>\n",
              "      <td>94.5</td>\n",
              "      <td>...</td>\n",
              "      <td>152</td>\n",
              "      <td>mpfi</td>\n",
              "      <td>2.68</td>\n",
              "      <td>3.47</td>\n",
              "      <td>9.0</td>\n",
              "      <td>154.0</td>\n",
              "      <td>5000.0</td>\n",
              "      <td>19</td>\n",
              "      <td>26</td>\n",
              "      <td>16500.0</td>\n",
              "    </tr>\n",
              "    <tr>\n",
              "      <th>3</th>\n",
              "      <td>2</td>\n",
              "      <td>164.0</td>\n",
              "      <td>audi</td>\n",
              "      <td>gas</td>\n",
              "      <td>std</td>\n",
              "      <td>four</td>\n",
              "      <td>sedan</td>\n",
              "      <td>fwd</td>\n",
              "      <td>front</td>\n",
              "      <td>99.8</td>\n",
              "      <td>...</td>\n",
              "      <td>109</td>\n",
              "      <td>mpfi</td>\n",
              "      <td>3.19</td>\n",
              "      <td>3.40</td>\n",
              "      <td>10.0</td>\n",
              "      <td>102.0</td>\n",
              "      <td>5500.0</td>\n",
              "      <td>24</td>\n",
              "      <td>30</td>\n",
              "      <td>13950.0</td>\n",
              "    </tr>\n",
              "    <tr>\n",
              "      <th>4</th>\n",
              "      <td>2</td>\n",
              "      <td>164.0</td>\n",
              "      <td>audi</td>\n",
              "      <td>gas</td>\n",
              "      <td>std</td>\n",
              "      <td>four</td>\n",
              "      <td>sedan</td>\n",
              "      <td>4wd</td>\n",
              "      <td>front</td>\n",
              "      <td>99.4</td>\n",
              "      <td>...</td>\n",
              "      <td>136</td>\n",
              "      <td>mpfi</td>\n",
              "      <td>3.19</td>\n",
              "      <td>3.40</td>\n",
              "      <td>8.0</td>\n",
              "      <td>115.0</td>\n",
              "      <td>5500.0</td>\n",
              "      <td>18</td>\n",
              "      <td>22</td>\n",
              "      <td>17450.0</td>\n",
              "    </tr>\n",
              "  </tbody>\n",
              "</table>\n",
              "<p>5 rows × 26 columns</p>\n",
              "</div>\n",
              "      <button class=\"colab-df-convert\" onclick=\"convertToInteractive('df-44a1d898-3b67-4694-96ca-bd84e08a0e16')\"\n",
              "              title=\"Convert this dataframe to an interactive table.\"\n",
              "              style=\"display:none;\">\n",
              "        \n",
              "  <svg xmlns=\"http://www.w3.org/2000/svg\" height=\"24px\"viewBox=\"0 0 24 24\"\n",
              "       width=\"24px\">\n",
              "    <path d=\"M0 0h24v24H0V0z\" fill=\"none\"/>\n",
              "    <path d=\"M18.56 5.44l.94 2.06.94-2.06 2.06-.94-2.06-.94-.94-2.06-.94 2.06-2.06.94zm-11 1L8.5 8.5l.94-2.06 2.06-.94-2.06-.94L8.5 2.5l-.94 2.06-2.06.94zm10 10l.94 2.06.94-2.06 2.06-.94-2.06-.94-.94-2.06-.94 2.06-2.06.94z\"/><path d=\"M17.41 7.96l-1.37-1.37c-.4-.4-.92-.59-1.43-.59-.52 0-1.04.2-1.43.59L10.3 9.45l-7.72 7.72c-.78.78-.78 2.05 0 2.83L4 21.41c.39.39.9.59 1.41.59.51 0 1.02-.2 1.41-.59l7.78-7.78 2.81-2.81c.8-.78.8-2.07 0-2.86zM5.41 20L4 18.59l7.72-7.72 1.47 1.35L5.41 20z\"/>\n",
              "  </svg>\n",
              "      </button>\n",
              "      \n",
              "  <style>\n",
              "    .colab-df-container {\n",
              "      display:flex;\n",
              "      flex-wrap:wrap;\n",
              "      gap: 12px;\n",
              "    }\n",
              "\n",
              "    .colab-df-convert {\n",
              "      background-color: #E8F0FE;\n",
              "      border: none;\n",
              "      border-radius: 50%;\n",
              "      cursor: pointer;\n",
              "      display: none;\n",
              "      fill: #1967D2;\n",
              "      height: 32px;\n",
              "      padding: 0 0 0 0;\n",
              "      width: 32px;\n",
              "    }\n",
              "\n",
              "    .colab-df-convert:hover {\n",
              "      background-color: #E2EBFA;\n",
              "      box-shadow: 0px 1px 2px rgba(60, 64, 67, 0.3), 0px 1px 3px 1px rgba(60, 64, 67, 0.15);\n",
              "      fill: #174EA6;\n",
              "    }\n",
              "\n",
              "    [theme=dark] .colab-df-convert {\n",
              "      background-color: #3B4455;\n",
              "      fill: #D2E3FC;\n",
              "    }\n",
              "\n",
              "    [theme=dark] .colab-df-convert:hover {\n",
              "      background-color: #434B5C;\n",
              "      box-shadow: 0px 1px 3px 1px rgba(0, 0, 0, 0.15);\n",
              "      filter: drop-shadow(0px 1px 2px rgba(0, 0, 0, 0.3));\n",
              "      fill: #FFFFFF;\n",
              "    }\n",
              "  </style>\n",
              "\n",
              "      <script>\n",
              "        const buttonEl =\n",
              "          document.querySelector('#df-44a1d898-3b67-4694-96ca-bd84e08a0e16 button.colab-df-convert');\n",
              "        buttonEl.style.display =\n",
              "          google.colab.kernel.accessAllowed ? 'block' : 'none';\n",
              "\n",
              "        async function convertToInteractive(key) {\n",
              "          const element = document.querySelector('#df-44a1d898-3b67-4694-96ca-bd84e08a0e16');\n",
              "          const dataTable =\n",
              "            await google.colab.kernel.invokeFunction('convertToInteractive',\n",
              "                                                     [key], {});\n",
              "          if (!dataTable) return;\n",
              "\n",
              "          const docLinkHtml = 'Like what you see? Visit the ' +\n",
              "            '<a target=\"_blank\" href=https://colab.research.google.com/notebooks/data_table.ipynb>data table notebook</a>'\n",
              "            + ' to learn more about interactive tables.';\n",
              "          element.innerHTML = '';\n",
              "          dataTable['output_type'] = 'display_data';\n",
              "          await google.colab.output.renderOutput(dataTable, element);\n",
              "          const docLink = document.createElement('div');\n",
              "          docLink.innerHTML = docLinkHtml;\n",
              "          element.appendChild(docLink);\n",
              "        }\n",
              "      </script>\n",
              "    </div>\n",
              "  </div>\n",
              "  "
            ]
          },
          "metadata": {},
          "execution_count": 104
        }
      ]
    },
    {
      "cell_type": "code",
      "source": [
        "data.tail()"
      ],
      "metadata": {
        "colab": {
          "base_uri": "https://localhost:8080/",
          "height": 236
        },
        "id": "j8J8gO_1mTSf",
        "outputId": "ea5ac053-a5fb-4d2f-c2c8-c4773f3b10af"
      },
      "execution_count": 7,
      "outputs": [
        {
          "output_type": "execute_result",
          "data": {
            "text/plain": [
              "     3   ? alfa-romero     gas    std   two convertible  rwd  front  88.60  \\\n",
              "199 -1  95       volvo     gas    std  four       sedan  rwd  front  109.1   \n",
              "200 -1  95       volvo     gas  turbo  four       sedan  rwd  front  109.1   \n",
              "201 -1  95       volvo     gas    std  four       sedan  rwd  front  109.1   \n",
              "202 -1  95       volvo  diesel  turbo  four       sedan  rwd  front  109.1   \n",
              "203 -1  95       volvo     gas  turbo  four       sedan  rwd  front  109.1   \n",
              "\n",
              "     ...  130  mpfi  3.47  2.68  9.00  111  5000  21  27  13495  \n",
              "199  ...  141  mpfi  3.78  3.15   9.5  114  5400  23  28  16845  \n",
              "200  ...  141  mpfi  3.78  3.15   8.7  160  5300  19  25  19045  \n",
              "201  ...  173  mpfi  3.58  2.87   8.8  134  5500  18  23  21485  \n",
              "202  ...  145   idi  3.01  3.40  23.0  106  4800  26  27  22470  \n",
              "203  ...  141  mpfi  3.78  3.15   9.5  114  5400  19  25  22625  \n",
              "\n",
              "[5 rows x 26 columns]"
            ],
            "text/html": [
              "\n",
              "  <div id=\"df-b42c0987-8b2d-4d7f-b549-8af4b85a6c6e\">\n",
              "    <div class=\"colab-df-container\">\n",
              "      <div>\n",
              "<style scoped>\n",
              "    .dataframe tbody tr th:only-of-type {\n",
              "        vertical-align: middle;\n",
              "    }\n",
              "\n",
              "    .dataframe tbody tr th {\n",
              "        vertical-align: top;\n",
              "    }\n",
              "\n",
              "    .dataframe thead th {\n",
              "        text-align: right;\n",
              "    }\n",
              "</style>\n",
              "<table border=\"1\" class=\"dataframe\">\n",
              "  <thead>\n",
              "    <tr style=\"text-align: right;\">\n",
              "      <th></th>\n",
              "      <th>3</th>\n",
              "      <th>?</th>\n",
              "      <th>alfa-romero</th>\n",
              "      <th>gas</th>\n",
              "      <th>std</th>\n",
              "      <th>two</th>\n",
              "      <th>convertible</th>\n",
              "      <th>rwd</th>\n",
              "      <th>front</th>\n",
              "      <th>88.60</th>\n",
              "      <th>...</th>\n",
              "      <th>130</th>\n",
              "      <th>mpfi</th>\n",
              "      <th>3.47</th>\n",
              "      <th>2.68</th>\n",
              "      <th>9.00</th>\n",
              "      <th>111</th>\n",
              "      <th>5000</th>\n",
              "      <th>21</th>\n",
              "      <th>27</th>\n",
              "      <th>13495</th>\n",
              "    </tr>\n",
              "  </thead>\n",
              "  <tbody>\n",
              "    <tr>\n",
              "      <th>199</th>\n",
              "      <td>-1</td>\n",
              "      <td>95</td>\n",
              "      <td>volvo</td>\n",
              "      <td>gas</td>\n",
              "      <td>std</td>\n",
              "      <td>four</td>\n",
              "      <td>sedan</td>\n",
              "      <td>rwd</td>\n",
              "      <td>front</td>\n",
              "      <td>109.1</td>\n",
              "      <td>...</td>\n",
              "      <td>141</td>\n",
              "      <td>mpfi</td>\n",
              "      <td>3.78</td>\n",
              "      <td>3.15</td>\n",
              "      <td>9.5</td>\n",
              "      <td>114</td>\n",
              "      <td>5400</td>\n",
              "      <td>23</td>\n",
              "      <td>28</td>\n",
              "      <td>16845</td>\n",
              "    </tr>\n",
              "    <tr>\n",
              "      <th>200</th>\n",
              "      <td>-1</td>\n",
              "      <td>95</td>\n",
              "      <td>volvo</td>\n",
              "      <td>gas</td>\n",
              "      <td>turbo</td>\n",
              "      <td>four</td>\n",
              "      <td>sedan</td>\n",
              "      <td>rwd</td>\n",
              "      <td>front</td>\n",
              "      <td>109.1</td>\n",
              "      <td>...</td>\n",
              "      <td>141</td>\n",
              "      <td>mpfi</td>\n",
              "      <td>3.78</td>\n",
              "      <td>3.15</td>\n",
              "      <td>8.7</td>\n",
              "      <td>160</td>\n",
              "      <td>5300</td>\n",
              "      <td>19</td>\n",
              "      <td>25</td>\n",
              "      <td>19045</td>\n",
              "    </tr>\n",
              "    <tr>\n",
              "      <th>201</th>\n",
              "      <td>-1</td>\n",
              "      <td>95</td>\n",
              "      <td>volvo</td>\n",
              "      <td>gas</td>\n",
              "      <td>std</td>\n",
              "      <td>four</td>\n",
              "      <td>sedan</td>\n",
              "      <td>rwd</td>\n",
              "      <td>front</td>\n",
              "      <td>109.1</td>\n",
              "      <td>...</td>\n",
              "      <td>173</td>\n",
              "      <td>mpfi</td>\n",
              "      <td>3.58</td>\n",
              "      <td>2.87</td>\n",
              "      <td>8.8</td>\n",
              "      <td>134</td>\n",
              "      <td>5500</td>\n",
              "      <td>18</td>\n",
              "      <td>23</td>\n",
              "      <td>21485</td>\n",
              "    </tr>\n",
              "    <tr>\n",
              "      <th>202</th>\n",
              "      <td>-1</td>\n",
              "      <td>95</td>\n",
              "      <td>volvo</td>\n",
              "      <td>diesel</td>\n",
              "      <td>turbo</td>\n",
              "      <td>four</td>\n",
              "      <td>sedan</td>\n",
              "      <td>rwd</td>\n",
              "      <td>front</td>\n",
              "      <td>109.1</td>\n",
              "      <td>...</td>\n",
              "      <td>145</td>\n",
              "      <td>idi</td>\n",
              "      <td>3.01</td>\n",
              "      <td>3.40</td>\n",
              "      <td>23.0</td>\n",
              "      <td>106</td>\n",
              "      <td>4800</td>\n",
              "      <td>26</td>\n",
              "      <td>27</td>\n",
              "      <td>22470</td>\n",
              "    </tr>\n",
              "    <tr>\n",
              "      <th>203</th>\n",
              "      <td>-1</td>\n",
              "      <td>95</td>\n",
              "      <td>volvo</td>\n",
              "      <td>gas</td>\n",
              "      <td>turbo</td>\n",
              "      <td>four</td>\n",
              "      <td>sedan</td>\n",
              "      <td>rwd</td>\n",
              "      <td>front</td>\n",
              "      <td>109.1</td>\n",
              "      <td>...</td>\n",
              "      <td>141</td>\n",
              "      <td>mpfi</td>\n",
              "      <td>3.78</td>\n",
              "      <td>3.15</td>\n",
              "      <td>9.5</td>\n",
              "      <td>114</td>\n",
              "      <td>5400</td>\n",
              "      <td>19</td>\n",
              "      <td>25</td>\n",
              "      <td>22625</td>\n",
              "    </tr>\n",
              "  </tbody>\n",
              "</table>\n",
              "<p>5 rows × 26 columns</p>\n",
              "</div>\n",
              "      <button class=\"colab-df-convert\" onclick=\"convertToInteractive('df-b42c0987-8b2d-4d7f-b549-8af4b85a6c6e')\"\n",
              "              title=\"Convert this dataframe to an interactive table.\"\n",
              "              style=\"display:none;\">\n",
              "        \n",
              "  <svg xmlns=\"http://www.w3.org/2000/svg\" height=\"24px\"viewBox=\"0 0 24 24\"\n",
              "       width=\"24px\">\n",
              "    <path d=\"M0 0h24v24H0V0z\" fill=\"none\"/>\n",
              "    <path d=\"M18.56 5.44l.94 2.06.94-2.06 2.06-.94-2.06-.94-.94-2.06-.94 2.06-2.06.94zm-11 1L8.5 8.5l.94-2.06 2.06-.94-2.06-.94L8.5 2.5l-.94 2.06-2.06.94zm10 10l.94 2.06.94-2.06 2.06-.94-2.06-.94-.94-2.06-.94 2.06-2.06.94z\"/><path d=\"M17.41 7.96l-1.37-1.37c-.4-.4-.92-.59-1.43-.59-.52 0-1.04.2-1.43.59L10.3 9.45l-7.72 7.72c-.78.78-.78 2.05 0 2.83L4 21.41c.39.39.9.59 1.41.59.51 0 1.02-.2 1.41-.59l7.78-7.78 2.81-2.81c.8-.78.8-2.07 0-2.86zM5.41 20L4 18.59l7.72-7.72 1.47 1.35L5.41 20z\"/>\n",
              "  </svg>\n",
              "      </button>\n",
              "      \n",
              "  <style>\n",
              "    .colab-df-container {\n",
              "      display:flex;\n",
              "      flex-wrap:wrap;\n",
              "      gap: 12px;\n",
              "    }\n",
              "\n",
              "    .colab-df-convert {\n",
              "      background-color: #E8F0FE;\n",
              "      border: none;\n",
              "      border-radius: 50%;\n",
              "      cursor: pointer;\n",
              "      display: none;\n",
              "      fill: #1967D2;\n",
              "      height: 32px;\n",
              "      padding: 0 0 0 0;\n",
              "      width: 32px;\n",
              "    }\n",
              "\n",
              "    .colab-df-convert:hover {\n",
              "      background-color: #E2EBFA;\n",
              "      box-shadow: 0px 1px 2px rgba(60, 64, 67, 0.3), 0px 1px 3px 1px rgba(60, 64, 67, 0.15);\n",
              "      fill: #174EA6;\n",
              "    }\n",
              "\n",
              "    [theme=dark] .colab-df-convert {\n",
              "      background-color: #3B4455;\n",
              "      fill: #D2E3FC;\n",
              "    }\n",
              "\n",
              "    [theme=dark] .colab-df-convert:hover {\n",
              "      background-color: #434B5C;\n",
              "      box-shadow: 0px 1px 3px 1px rgba(0, 0, 0, 0.15);\n",
              "      filter: drop-shadow(0px 1px 2px rgba(0, 0, 0, 0.3));\n",
              "      fill: #FFFFFF;\n",
              "    }\n",
              "  </style>\n",
              "\n",
              "      <script>\n",
              "        const buttonEl =\n",
              "          document.querySelector('#df-b42c0987-8b2d-4d7f-b549-8af4b85a6c6e button.colab-df-convert');\n",
              "        buttonEl.style.display =\n",
              "          google.colab.kernel.accessAllowed ? 'block' : 'none';\n",
              "\n",
              "        async function convertToInteractive(key) {\n",
              "          const element = document.querySelector('#df-b42c0987-8b2d-4d7f-b549-8af4b85a6c6e');\n",
              "          const dataTable =\n",
              "            await google.colab.kernel.invokeFunction('convertToInteractive',\n",
              "                                                     [key], {});\n",
              "          if (!dataTable) return;\n",
              "\n",
              "          const docLinkHtml = 'Like what you see? Visit the ' +\n",
              "            '<a target=\"_blank\" href=https://colab.research.google.com/notebooks/data_table.ipynb>data table notebook</a>'\n",
              "            + ' to learn more about interactive tables.';\n",
              "          element.innerHTML = '';\n",
              "          dataTable['output_type'] = 'display_data';\n",
              "          await google.colab.output.renderOutput(dataTable, element);\n",
              "          const docLink = document.createElement('div');\n",
              "          docLink.innerHTML = docLinkHtml;\n",
              "          element.appendChild(docLink);\n",
              "        }\n",
              "      </script>\n",
              "    </div>\n",
              "  </div>\n",
              "  "
            ]
          },
          "metadata": {},
          "execution_count": 7
        }
      ]
    },
    {
      "cell_type": "code",
      "source": [
        "data.shape"
      ],
      "metadata": {
        "colab": {
          "base_uri": "https://localhost:8080/"
        },
        "id": "onJsl5H5mYAW",
        "outputId": "9bfec825-89c3-4faa-c1e4-836212ceca99"
      },
      "execution_count": 8,
      "outputs": [
        {
          "output_type": "execute_result",
          "data": {
            "text/plain": [
              "(204, 26)"
            ]
          },
          "metadata": {},
          "execution_count": 8
        }
      ]
    },
    {
      "cell_type": "code",
      "source": [
        "data.columns=[\"symboling\",\"losses\",\"make\",\"fuel\",\"aspiration\",\"doors\",\"body\",\"wheels\",\"engineloc\",\"wheelbase\",\"length\",\"width\",\"height\",\"curbwidth\",\"enginetype\",\"numofcylin\",\"engsize\",\"fuelsys\",\"bore\",\"stroke\",\"compression\",\"horse\",\"peak\",\"citympg\",\"highwaympg\",\"price\"]\n",
        "data.head()"
      ],
      "metadata": {
        "colab": {
          "base_uri": "https://localhost:8080/",
          "height": 236
        },
        "id": "WrlR9KpKmeAn",
        "outputId": "9e111b50-0cdf-4676-e69c-f6737abba6a1"
      },
      "execution_count": 107,
      "outputs": [
        {
          "output_type": "execute_result",
          "data": {
            "text/plain": [
              "   symboling  losses         make fuel aspiration doors         body wheels  \\\n",
              "0          3     NaN  alfa-romero  gas        std   two  convertible    rwd   \n",
              "1          3     NaN  alfa-romero  gas        std   two  convertible    rwd   \n",
              "2          1     NaN  alfa-romero  gas        std   two    hatchback    rwd   \n",
              "3          2   164.0         audi  gas        std  four        sedan    fwd   \n",
              "4          2   164.0         audi  gas        std  four        sedan    4wd   \n",
              "\n",
              "  engineloc  wheelbase  ...  engsize  fuelsys  bore  stroke compression  \\\n",
              "0     front       88.6  ...      130     mpfi  3.47    2.68         9.0   \n",
              "1     front       88.6  ...      130     mpfi  3.47    2.68         9.0   \n",
              "2     front       94.5  ...      152     mpfi  2.68    3.47         9.0   \n",
              "3     front       99.8  ...      109     mpfi  3.19    3.40        10.0   \n",
              "4     front       99.4  ...      136     mpfi  3.19    3.40         8.0   \n",
              "\n",
              "   horse    peak citympg  highwaympg    price  \n",
              "0  111.0  5000.0      21          27  13495.0  \n",
              "1  111.0  5000.0      21          27  16500.0  \n",
              "2  154.0  5000.0      19          26  16500.0  \n",
              "3  102.0  5500.0      24          30  13950.0  \n",
              "4  115.0  5500.0      18          22  17450.0  \n",
              "\n",
              "[5 rows x 26 columns]"
            ],
            "text/html": [
              "\n",
              "  <div id=\"df-a81ae627-8841-40ea-9fde-9868158b4759\">\n",
              "    <div class=\"colab-df-container\">\n",
              "      <div>\n",
              "<style scoped>\n",
              "    .dataframe tbody tr th:only-of-type {\n",
              "        vertical-align: middle;\n",
              "    }\n",
              "\n",
              "    .dataframe tbody tr th {\n",
              "        vertical-align: top;\n",
              "    }\n",
              "\n",
              "    .dataframe thead th {\n",
              "        text-align: right;\n",
              "    }\n",
              "</style>\n",
              "<table border=\"1\" class=\"dataframe\">\n",
              "  <thead>\n",
              "    <tr style=\"text-align: right;\">\n",
              "      <th></th>\n",
              "      <th>symboling</th>\n",
              "      <th>losses</th>\n",
              "      <th>make</th>\n",
              "      <th>fuel</th>\n",
              "      <th>aspiration</th>\n",
              "      <th>doors</th>\n",
              "      <th>body</th>\n",
              "      <th>wheels</th>\n",
              "      <th>engineloc</th>\n",
              "      <th>wheelbase</th>\n",
              "      <th>...</th>\n",
              "      <th>engsize</th>\n",
              "      <th>fuelsys</th>\n",
              "      <th>bore</th>\n",
              "      <th>stroke</th>\n",
              "      <th>compression</th>\n",
              "      <th>horse</th>\n",
              "      <th>peak</th>\n",
              "      <th>citympg</th>\n",
              "      <th>highwaympg</th>\n",
              "      <th>price</th>\n",
              "    </tr>\n",
              "  </thead>\n",
              "  <tbody>\n",
              "    <tr>\n",
              "      <th>0</th>\n",
              "      <td>3</td>\n",
              "      <td>NaN</td>\n",
              "      <td>alfa-romero</td>\n",
              "      <td>gas</td>\n",
              "      <td>std</td>\n",
              "      <td>two</td>\n",
              "      <td>convertible</td>\n",
              "      <td>rwd</td>\n",
              "      <td>front</td>\n",
              "      <td>88.6</td>\n",
              "      <td>...</td>\n",
              "      <td>130</td>\n",
              "      <td>mpfi</td>\n",
              "      <td>3.47</td>\n",
              "      <td>2.68</td>\n",
              "      <td>9.0</td>\n",
              "      <td>111.0</td>\n",
              "      <td>5000.0</td>\n",
              "      <td>21</td>\n",
              "      <td>27</td>\n",
              "      <td>13495.0</td>\n",
              "    </tr>\n",
              "    <tr>\n",
              "      <th>1</th>\n",
              "      <td>3</td>\n",
              "      <td>NaN</td>\n",
              "      <td>alfa-romero</td>\n",
              "      <td>gas</td>\n",
              "      <td>std</td>\n",
              "      <td>two</td>\n",
              "      <td>convertible</td>\n",
              "      <td>rwd</td>\n",
              "      <td>front</td>\n",
              "      <td>88.6</td>\n",
              "      <td>...</td>\n",
              "      <td>130</td>\n",
              "      <td>mpfi</td>\n",
              "      <td>3.47</td>\n",
              "      <td>2.68</td>\n",
              "      <td>9.0</td>\n",
              "      <td>111.0</td>\n",
              "      <td>5000.0</td>\n",
              "      <td>21</td>\n",
              "      <td>27</td>\n",
              "      <td>16500.0</td>\n",
              "    </tr>\n",
              "    <tr>\n",
              "      <th>2</th>\n",
              "      <td>1</td>\n",
              "      <td>NaN</td>\n",
              "      <td>alfa-romero</td>\n",
              "      <td>gas</td>\n",
              "      <td>std</td>\n",
              "      <td>two</td>\n",
              "      <td>hatchback</td>\n",
              "      <td>rwd</td>\n",
              "      <td>front</td>\n",
              "      <td>94.5</td>\n",
              "      <td>...</td>\n",
              "      <td>152</td>\n",
              "      <td>mpfi</td>\n",
              "      <td>2.68</td>\n",
              "      <td>3.47</td>\n",
              "      <td>9.0</td>\n",
              "      <td>154.0</td>\n",
              "      <td>5000.0</td>\n",
              "      <td>19</td>\n",
              "      <td>26</td>\n",
              "      <td>16500.0</td>\n",
              "    </tr>\n",
              "    <tr>\n",
              "      <th>3</th>\n",
              "      <td>2</td>\n",
              "      <td>164.0</td>\n",
              "      <td>audi</td>\n",
              "      <td>gas</td>\n",
              "      <td>std</td>\n",
              "      <td>four</td>\n",
              "      <td>sedan</td>\n",
              "      <td>fwd</td>\n",
              "      <td>front</td>\n",
              "      <td>99.8</td>\n",
              "      <td>...</td>\n",
              "      <td>109</td>\n",
              "      <td>mpfi</td>\n",
              "      <td>3.19</td>\n",
              "      <td>3.40</td>\n",
              "      <td>10.0</td>\n",
              "      <td>102.0</td>\n",
              "      <td>5500.0</td>\n",
              "      <td>24</td>\n",
              "      <td>30</td>\n",
              "      <td>13950.0</td>\n",
              "    </tr>\n",
              "    <tr>\n",
              "      <th>4</th>\n",
              "      <td>2</td>\n",
              "      <td>164.0</td>\n",
              "      <td>audi</td>\n",
              "      <td>gas</td>\n",
              "      <td>std</td>\n",
              "      <td>four</td>\n",
              "      <td>sedan</td>\n",
              "      <td>4wd</td>\n",
              "      <td>front</td>\n",
              "      <td>99.4</td>\n",
              "      <td>...</td>\n",
              "      <td>136</td>\n",
              "      <td>mpfi</td>\n",
              "      <td>3.19</td>\n",
              "      <td>3.40</td>\n",
              "      <td>8.0</td>\n",
              "      <td>115.0</td>\n",
              "      <td>5500.0</td>\n",
              "      <td>18</td>\n",
              "      <td>22</td>\n",
              "      <td>17450.0</td>\n",
              "    </tr>\n",
              "  </tbody>\n",
              "</table>\n",
              "<p>5 rows × 26 columns</p>\n",
              "</div>\n",
              "      <button class=\"colab-df-convert\" onclick=\"convertToInteractive('df-a81ae627-8841-40ea-9fde-9868158b4759')\"\n",
              "              title=\"Convert this dataframe to an interactive table.\"\n",
              "              style=\"display:none;\">\n",
              "        \n",
              "  <svg xmlns=\"http://www.w3.org/2000/svg\" height=\"24px\"viewBox=\"0 0 24 24\"\n",
              "       width=\"24px\">\n",
              "    <path d=\"M0 0h24v24H0V0z\" fill=\"none\"/>\n",
              "    <path d=\"M18.56 5.44l.94 2.06.94-2.06 2.06-.94-2.06-.94-.94-2.06-.94 2.06-2.06.94zm-11 1L8.5 8.5l.94-2.06 2.06-.94-2.06-.94L8.5 2.5l-.94 2.06-2.06.94zm10 10l.94 2.06.94-2.06 2.06-.94-2.06-.94-.94-2.06-.94 2.06-2.06.94z\"/><path d=\"M17.41 7.96l-1.37-1.37c-.4-.4-.92-.59-1.43-.59-.52 0-1.04.2-1.43.59L10.3 9.45l-7.72 7.72c-.78.78-.78 2.05 0 2.83L4 21.41c.39.39.9.59 1.41.59.51 0 1.02-.2 1.41-.59l7.78-7.78 2.81-2.81c.8-.78.8-2.07 0-2.86zM5.41 20L4 18.59l7.72-7.72 1.47 1.35L5.41 20z\"/>\n",
              "  </svg>\n",
              "      </button>\n",
              "      \n",
              "  <style>\n",
              "    .colab-df-container {\n",
              "      display:flex;\n",
              "      flex-wrap:wrap;\n",
              "      gap: 12px;\n",
              "    }\n",
              "\n",
              "    .colab-df-convert {\n",
              "      background-color: #E8F0FE;\n",
              "      border: none;\n",
              "      border-radius: 50%;\n",
              "      cursor: pointer;\n",
              "      display: none;\n",
              "      fill: #1967D2;\n",
              "      height: 32px;\n",
              "      padding: 0 0 0 0;\n",
              "      width: 32px;\n",
              "    }\n",
              "\n",
              "    .colab-df-convert:hover {\n",
              "      background-color: #E2EBFA;\n",
              "      box-shadow: 0px 1px 2px rgba(60, 64, 67, 0.3), 0px 1px 3px 1px rgba(60, 64, 67, 0.15);\n",
              "      fill: #174EA6;\n",
              "    }\n",
              "\n",
              "    [theme=dark] .colab-df-convert {\n",
              "      background-color: #3B4455;\n",
              "      fill: #D2E3FC;\n",
              "    }\n",
              "\n",
              "    [theme=dark] .colab-df-convert:hover {\n",
              "      background-color: #434B5C;\n",
              "      box-shadow: 0px 1px 3px 1px rgba(0, 0, 0, 0.15);\n",
              "      filter: drop-shadow(0px 1px 2px rgba(0, 0, 0, 0.3));\n",
              "      fill: #FFFFFF;\n",
              "    }\n",
              "  </style>\n",
              "\n",
              "      <script>\n",
              "        const buttonEl =\n",
              "          document.querySelector('#df-a81ae627-8841-40ea-9fde-9868158b4759 button.colab-df-convert');\n",
              "        buttonEl.style.display =\n",
              "          google.colab.kernel.accessAllowed ? 'block' : 'none';\n",
              "\n",
              "        async function convertToInteractive(key) {\n",
              "          const element = document.querySelector('#df-a81ae627-8841-40ea-9fde-9868158b4759');\n",
              "          const dataTable =\n",
              "            await google.colab.kernel.invokeFunction('convertToInteractive',\n",
              "                                                     [key], {});\n",
              "          if (!dataTable) return;\n",
              "\n",
              "          const docLinkHtml = 'Like what you see? Visit the ' +\n",
              "            '<a target=\"_blank\" href=https://colab.research.google.com/notebooks/data_table.ipynb>data table notebook</a>'\n",
              "            + ' to learn more about interactive tables.';\n",
              "          element.innerHTML = '';\n",
              "          dataTable['output_type'] = 'display_data';\n",
              "          await google.colab.output.renderOutput(dataTable, element);\n",
              "          const docLink = document.createElement('div');\n",
              "          docLink.innerHTML = docLinkHtml;\n",
              "          element.appendChild(docLink);\n",
              "        }\n",
              "      </script>\n",
              "    </div>\n",
              "  </div>\n",
              "  "
            ]
          },
          "metadata": {},
          "execution_count": 107
        }
      ]
    },
    {
      "cell_type": "code",
      "source": [
        "data.nunique()"
      ],
      "metadata": {
        "colab": {
          "base_uri": "https://localhost:8080/"
        },
        "id": "Top-d3pTq847",
        "outputId": "9293ce21-5ea1-4546-d846-a3e4aa5da7a0"
      },
      "execution_count": 10,
      "outputs": [
        {
          "output_type": "execute_result",
          "data": {
            "text/plain": [
              "symboling        6\n",
              "losses          52\n",
              "make            22\n",
              "fuel             2\n",
              "aspiration       2\n",
              "doors            3\n",
              "body             5\n",
              "wheels           3\n",
              "engineloc        2\n",
              "wheelbase       53\n",
              "length          75\n",
              "width           44\n",
              "height          49\n",
              "curbwidth      171\n",
              "enginetype       7\n",
              "numofcylin       7\n",
              "engsize         44\n",
              "fuelsys          8\n",
              "bore            39\n",
              "stroke          37\n",
              "compression     32\n",
              "horse           60\n",
              "peak            24\n",
              "citympg         29\n",
              "highwaympg      30\n",
              "price          186\n",
              "dtype: int64"
            ]
          },
          "metadata": {},
          "execution_count": 10
        }
      ]
    },
    {
      "cell_type": "code",
      "source": [
        "data.isnull().sum()"
      ],
      "metadata": {
        "colab": {
          "base_uri": "https://localhost:8080/"
        },
        "id": "kVWCNrkDrkpR",
        "outputId": "c08bfd28-5e24-40c7-829b-97fc53ba94ec"
      },
      "execution_count": 105,
      "outputs": [
        {
          "output_type": "execute_result",
          "data": {
            "text/plain": [
              "0      0\n",
              "1     41\n",
              "2      0\n",
              "3      0\n",
              "4      0\n",
              "5      2\n",
              "6      0\n",
              "7      0\n",
              "8      0\n",
              "9      0\n",
              "10     0\n",
              "11     0\n",
              "12     0\n",
              "13     0\n",
              "14     0\n",
              "15     0\n",
              "16     0\n",
              "17     0\n",
              "18     4\n",
              "19     4\n",
              "20     0\n",
              "21     2\n",
              "22     2\n",
              "23     0\n",
              "24     0\n",
              "25     4\n",
              "dtype: int64"
            ]
          },
          "metadata": {},
          "execution_count": 105
        }
      ]
    },
    {
      "cell_type": "code",
      "source": [
        "data.losses.unique() "
      ],
      "metadata": {
        "colab": {
          "base_uri": "https://localhost:8080/"
        },
        "id": "5sjYbdG5vos0",
        "outputId": "45e1d7e6-6840-4207-9029-8b6a1f504df3"
      },
      "execution_count": 12,
      "outputs": [
        {
          "output_type": "execute_result",
          "data": {
            "text/plain": [
              "array(['?', '164', '158', '192', '188', '121', '98', '81', '118', '148',\n",
              "       '110', '145', '137', '101', '78', '106', '85', '107', '104', '113',\n",
              "       '150', '129', '115', '93', '142', '161', '153', '125', '128',\n",
              "       '122', '103', '168', '108', '194', '231', '119', '154', '74',\n",
              "       '186', '83', '102', '89', '87', '77', '91', '134', '65', '197',\n",
              "       '90', '94', '256', '95'], dtype=object)"
            ]
          },
          "metadata": {},
          "execution_count": 12
        }
      ]
    },
    {
      "cell_type": "code",
      "source": [
        "data.columns"
      ],
      "metadata": {
        "colab": {
          "base_uri": "https://localhost:8080/"
        },
        "id": "VDNKS4fLxAeF",
        "outputId": "1b7d0d02-7830-4082-a420-131d399b71aa"
      },
      "execution_count": 13,
      "outputs": [
        {
          "output_type": "execute_result",
          "data": {
            "text/plain": [
              "Index(['symboling', 'losses', 'make', 'fuel', 'aspiration', 'doors', 'body',\n",
              "       'wheels', 'engineloc', 'wheelbase', 'length', 'width', 'height',\n",
              "       'curbwidth', 'enginetype', 'numofcylin', 'engsize', 'fuelsys', 'bore',\n",
              "       'stroke', 'compression', 'horse', 'peak', 'citympg', 'highwaympg',\n",
              "       'price'],\n",
              "      dtype='object')"
            ]
          },
          "metadata": {},
          "execution_count": 13
        }
      ]
    },
    {
      "cell_type": "code",
      "source": [
        "data.hist()"
      ],
      "metadata": {
        "colab": {
          "base_uri": "https://localhost:8080/",
          "height": 506
        },
        "id": "bi_FogGEwdQm",
        "outputId": "5f864c93-7687-4ea2-8ed1-2a5ef53d613b"
      },
      "execution_count": 14,
      "outputs": [
        {
          "output_type": "execute_result",
          "data": {
            "text/plain": [
              "array([[<matplotlib.axes._subplots.AxesSubplot object at 0x7fedff1d9750>,\n",
              "        <matplotlib.axes._subplots.AxesSubplot object at 0x7fee003d4490>,\n",
              "        <matplotlib.axes._subplots.AxesSubplot object at 0x7fedff174410>],\n",
              "       [<matplotlib.axes._subplots.AxesSubplot object at 0x7fedff129a10>,\n",
              "        <matplotlib.axes._subplots.AxesSubplot object at 0x7fedff0e0f50>,\n",
              "        <matplotlib.axes._subplots.AxesSubplot object at 0x7fedff0a4590>],\n",
              "       [<matplotlib.axes._subplots.AxesSubplot object at 0x7fedff05ac10>,\n",
              "        <matplotlib.axes._subplots.AxesSubplot object at 0x7fedff01e190>,\n",
              "        <matplotlib.axes._subplots.AxesSubplot object at 0x7fedff01e1d0>],\n",
              "       [<matplotlib.axes._subplots.AxesSubplot object at 0x7fedff0548d0>,\n",
              "        <matplotlib.axes._subplots.AxesSubplot object at 0x7fedfefcc410>,\n",
              "        <matplotlib.axes._subplots.AxesSubplot object at 0x7fedfef83a10>]],\n",
              "      dtype=object)"
            ]
          },
          "metadata": {},
          "execution_count": 14
        },
        {
          "output_type": "display_data",
          "data": {
            "text/plain": [
              "<Figure size 432x288 with 12 Axes>"
            ],
            "image/png": "[encoded data removed]"
          },
          "metadata": {
            "needs_background": "light"
          }
        }
      ]
    },
    {
      "cell_type": "code",
      "source": [
        "data.describe()"
      ],
      "metadata": {
        "colab": {
          "base_uri": "https://localhost:8080/",
          "height": 300
        },
        "id": "dFZ7Un8Ewm9G",
        "outputId": "800dc5ac-9ca1-4ee7-a537-886961d2850f"
      },
      "execution_count": 15,
      "outputs": [
        {
          "output_type": "execute_result",
          "data": {
            "text/plain": [
              "        symboling   wheelbase      length       width      height  \\\n",
              "count  204.000000  204.000000  204.000000  204.000000  204.000000   \n",
              "mean     0.823529   98.806373  174.075000   65.916667   53.749020   \n",
              "std      1.239035    5.994144   12.362123    2.146716    2.424901   \n",
              "min     -2.000000   86.600000  141.100000   60.300000   47.800000   \n",
              "25%      0.000000   94.500000  166.300000   64.075000   52.000000   \n",
              "50%      1.000000   97.000000  173.200000   65.500000   54.100000   \n",
              "75%      2.000000  102.400000  183.200000   66.900000   55.500000   \n",
              "max      3.000000  120.900000  208.100000   72.300000   59.800000   \n",
              "\n",
              "         curbwidth     engsize  compression     citympg  highwaympg  \n",
              "count   204.000000  204.000000   204.000000  204.000000  204.000000  \n",
              "mean   2555.602941  126.892157    10.148137   25.240196   30.769608  \n",
              "std     521.960820   41.744569     3.981000    6.551513    6.898337  \n",
              "min    1488.000000   61.000000     7.000000   13.000000   16.000000  \n",
              "25%    2145.000000   97.000000     8.575000   19.000000   25.000000  \n",
              "50%    2414.000000  119.500000     9.000000   24.000000   30.000000  \n",
              "75%    2939.250000  142.000000     9.400000   30.000000   34.500000  \n",
              "max    4066.000000  326.000000    23.000000   49.000000   54.000000  "
            ],
            "text/html": [
              "\n",
              "  <div id=\"df-62cc22c8-d81a-49e9-ae89-72199167b370\">\n",
              "    <div class=\"colab-df-container\">\n",
              "      <div>\n",
              "<style scoped>\n",
              "    .dataframe tbody tr th:only-of-type {\n",
              "        vertical-align: middle;\n",
              "    }\n",
              "\n",
              "    .dataframe tbody tr th {\n",
              "        vertical-align: top;\n",
              "    }\n",
              "\n",
              "    .dataframe thead th {\n",
              "        text-align: right;\n",
              "    }\n",
              "</style>\n",
              "<table border=\"1\" class=\"dataframe\">\n",
              "  <thead>\n",
              "    <tr style=\"text-align: right;\">\n",
              "      <th></th>\n",
              "      <th>symboling</th>\n",
              "      <th>wheelbase</th>\n",
              "      <th>length</th>\n",
              "      <th>width</th>\n",
              "      <th>height</th>\n",
              "      <th>curbwidth</th>\n",
              "      <th>engsize</th>\n",
              "      <th>compression</th>\n",
              "      <th>citympg</th>\n",
              "      <th>highwaympg</th>\n",
              "    </tr>\n",
              "  </thead>\n",
              "  <tbody>\n",
              "    <tr>\n",
              "      <th>count</th>\n",
              "      <td>204.000000</td>\n",
              "      <td>204.000000</td>\n",
              "      <td>204.000000</td>\n",
              "      <td>204.000000</td>\n",
              "      <td>204.000000</td>\n",
              "      <td>204.000000</td>\n",
              "      <td>204.000000</td>\n",
              "      <td>204.000000</td>\n",
              "      <td>204.000000</td>\n",
              "      <td>204.000000</td>\n",
              "    </tr>\n",
              "    <tr>\n",
              "      <th>mean</th>\n",
              "      <td>0.823529</td>\n",
              "      <td>98.806373</td>\n",
              "      <td>174.075000</td>\n",
              "      <td>65.916667</td>\n",
              "      <td>53.749020</td>\n",
              "      <td>2555.602941</td>\n",
              "      <td>126.892157</td>\n",
              "      <td>10.148137</td>\n",
              "      <td>25.240196</td>\n",
              "      <td>30.769608</td>\n",
              "    </tr>\n",
              "    <tr>\n",
              "      <th>std</th>\n",
              "      <td>1.239035</td>\n",
              "      <td>5.994144</td>\n",
              "      <td>12.362123</td>\n",
              "      <td>2.146716</td>\n",
              "      <td>2.424901</td>\n",
              "      <td>521.960820</td>\n",
              "      <td>41.744569</td>\n",
              "      <td>3.981000</td>\n",
              "      <td>6.551513</td>\n",
              "      <td>6.898337</td>\n",
              "    </tr>\n",
              "    <tr>\n",
              "      <th>min</th>\n",
              "      <td>-2.000000</td>\n",
              "      <td>86.600000</td>\n",
              "      <td>141.100000</td>\n",
              "      <td>60.300000</td>\n",
              "      <td>47.800000</td>\n",
              "      <td>1488.000000</td>\n",
              "      <td>61.000000</td>\n",
              "      <td>7.000000</td>\n",
              "      <td>13.000000</td>\n",
              "      <td>16.000000</td>\n",
              "    </tr>\n",
              "    <tr>\n",
              "      <th>25%</th>\n",
              "      <td>0.000000</td>\n",
              "      <td>94.500000</td>\n",
              "      <td>166.300000</td>\n",
              "      <td>64.075000</td>\n",
              "      <td>52.000000</td>\n",
              "      <td>2145.000000</td>\n",
              "      <td>97.000000</td>\n",
              "      <td>8.575000</td>\n",
              "      <td>19.000000</td>\n",
              "      <td>25.000000</td>\n",
              "    </tr>\n",
              "    <tr>\n",
              "      <th>50%</th>\n",
              "      <td>1.000000</td>\n",
              "      <td>97.000000</td>\n",
              "      <td>173.200000</td>\n",
              "      <td>65.500000</td>\n",
              "      <td>54.100000</td>\n",
              "      <td>2414.000000</td>\n",
              "      <td>119.500000</td>\n",
              "      <td>9.000000</td>\n",
              "      <td>24.000000</td>\n",
              "      <td>30.000000</td>\n",
              "    </tr>\n",
              "    <tr>\n",
              "      <th>75%</th>\n",
              "      <td>2.000000</td>\n",
              "      <td>102.400000</td>\n",
              "      <td>183.200000</td>\n",
              "      <td>66.900000</td>\n",
              "      <td>55.500000</td>\n",
              "      <td>2939.250000</td>\n",
              "      <td>142.000000</td>\n",
              "      <td>9.400000</td>\n",
              "      <td>30.000000</td>\n",
              "      <td>34.500000</td>\n",
              "    </tr>\n",
              "    <tr>\n",
              "      <th>max</th>\n",
              "      <td>3.000000</td>\n",
              "      <td>120.900000</td>\n",
              "      <td>208.100000</td>\n",
              "      <td>72.300000</td>\n",
              "      <td>59.800000</td>\n",
              "      <td>4066.000000</td>\n",
              "      <td>326.000000</td>\n",
              "      <td>23.000000</td>\n",
              "      <td>49.000000</td>\n",
              "      <td>54.000000</td>\n",
              "    </tr>\n",
              "  </tbody>\n",
              "</table>\n",
              "</div>\n",
              "      <button class=\"colab-df-convert\" onclick=\"convertToInteractive('df-62cc22c8-d81a-49e9-ae89-72199167b370')\"\n",
              "              title=\"Convert this dataframe to an interactive table.\"\n",
              "              style=\"display:none;\">\n",
              "        \n",
              "  <svg xmlns=\"http://www.w3.org/2000/svg\" height=\"24px\"viewBox=\"0 0 24 24\"\n",
              "       width=\"24px\">\n",
              "    <path d=\"M0 0h24v24H0V0z\" fill=\"none\"/>\n",
              "    <path d=\"M18.56 5.44l.94 2.06.94-2.06 2.06-.94-2.06-.94-.94-2.06-.94 2.06-2.06.94zm-11 1L8.5 8.5l.94-2.06 2.06-.94-2.06-.94L8.5 2.5l-.94 2.06-2.06.94zm10 10l.94 2.06.94-2.06 2.06-.94-2.06-.94-.94-2.06-.94 2.06-2.06.94z\"/><path d=\"M17.41 7.96l-1.37-1.37c-.4-.4-.92-.59-1.43-.59-.52 0-1.04.2-1.43.59L10.3 9.45l-7.72 7.72c-.78.78-.78 2.05 0 2.83L4 21.41c.39.39.9.59 1.41.59.51 0 1.02-.2 1.41-.59l7.78-7.78 2.81-2.81c.8-.78.8-2.07 0-2.86zM5.41 20L4 18.59l7.72-7.72 1.47 1.35L5.41 20z\"/>\n",
              "  </svg>\n",
              "      </button>\n",
              "      \n",
              "  <style>\n",
              "    .colab-df-container {\n",
              "      display:flex;\n",
              "      flex-wrap:wrap;\n",
              "      gap: 12px;\n",
              "    }\n",
              "\n",
              "    .colab-df-convert {\n",
              "      background-color: #E8F0FE;\n",
              "      border: none;\n",
              "      border-radius: 50%;\n",
              "      cursor: pointer;\n",
              "      display: none;\n",
              "      fill: #1967D2;\n",
              "      height: 32px;\n",
              "      padding: 0 0 0 0;\n",
              "      width: 32px;\n",
              "    }\n",
              "\n",
              "    .colab-df-convert:hover {\n",
              "      background-color: #E2EBFA;\n",
              "      box-shadow: 0px 1px 2px rgba(60, 64, 67, 0.3), 0px 1px 3px 1px rgba(60, 64, 67, 0.15);\n",
              "      fill: #174EA6;\n",
              "    }\n",
              "\n",
              "    [theme=dark] .colab-df-convert {\n",
              "      background-color: #3B4455;\n",
              "      fill: #D2E3FC;\n",
              "    }\n",
              "\n",
              "    [theme=dark] .colab-df-convert:hover {\n",
              "      background-color: #434B5C;\n",
              "      box-shadow: 0px 1px 3px 1px rgba(0, 0, 0, 0.15);\n",
              "      filter: drop-shadow(0px 1px 2px rgba(0, 0, 0, 0.3));\n",
              "      fill: #FFFFFF;\n",
              "    }\n",
              "  </style>\n",
              "\n",
              "      <script>\n",
              "        const buttonEl =\n",
              "          document.querySelector('#df-62cc22c8-d81a-49e9-ae89-72199167b370 button.colab-df-convert');\n",
              "        buttonEl.style.display =\n",
              "          google.colab.kernel.accessAllowed ? 'block' : 'none';\n",
              "\n",
              "        async function convertToInteractive(key) {\n",
              "          const element = document.querySelector('#df-62cc22c8-d81a-49e9-ae89-72199167b370');\n",
              "          const dataTable =\n",
              "            await google.colab.kernel.invokeFunction('convertToInteractive',\n",
              "                                                     [key], {});\n",
              "          if (!dataTable) return;\n",
              "\n",
              "          const docLinkHtml = 'Like what you see? Visit the ' +\n",
              "            '<a target=\"_blank\" href=https://colab.research.google.com/notebooks/data_table.ipynb>data table notebook</a>'\n",
              "            + ' to learn more about interactive tables.';\n",
              "          element.innerHTML = '';\n",
              "          dataTable['output_type'] = 'display_data';\n",
              "          await google.colab.output.renderOutput(dataTable, element);\n",
              "          const docLink = document.createElement('div');\n",
              "          docLink.innerHTML = docLinkHtml;\n",
              "          element.appendChild(docLink);\n",
              "        }\n",
              "      </script>\n",
              "    </div>\n",
              "  </div>\n",
              "  "
            ]
          },
          "metadata": {},
          "execution_count": 15
        }
      ]
    },
    {
      "cell_type": "code",
      "source": [
        "data.price.isnull().sum()"
      ],
      "metadata": {
        "colab": {
          "base_uri": "https://localhost:8080/"
        },
        "id": "21m89hXLwxs9",
        "outputId": "f9a2713c-732d-48d2-a86f-4251192a1acb"
      },
      "execution_count": 108,
      "outputs": [
        {
          "output_type": "execute_result",
          "data": {
            "text/plain": [
              "4"
            ]
          },
          "metadata": {},
          "execution_count": 108
        }
      ]
    },
    {
      "cell_type": "code",
      "source": [
        "data.losses.head()"
      ],
      "metadata": {
        "colab": {
          "base_uri": "https://localhost:8080/"
        },
        "id": "2nfN0FvM6Fbb",
        "outputId": "3a5f5254-9e1b-45e7-ff4a-b56b60d6ca2d"
      },
      "execution_count": 17,
      "outputs": [
        {
          "output_type": "execute_result",
          "data": {
            "text/plain": [
              "0      ?\n",
              "1      ?\n",
              "2    164\n",
              "3    164\n",
              "4      ?\n",
              "Name: losses, dtype: object"
            ]
          },
          "metadata": {},
          "execution_count": 17
        }
      ]
    },
    {
      "cell_type": "code",
      "source": [
        "data.losses.value_counts()"
      ],
      "metadata": {
        "colab": {
          "base_uri": "https://localhost:8080/"
        },
        "id": "Tx9ZWRQpzmq1",
        "outputId": "9e37ecb5-ec3e-43da-bda2-63395278ca66"
      },
      "execution_count": 18,
      "outputs": [
        {
          "output_type": "execute_result",
          "data": {
            "text/plain": [
              "?      40\n",
              "161    11\n",
              "91      8\n",
              "150     7\n",
              "134     6\n",
              "128     6\n",
              "104     6\n",
              "85      5\n",
              "94      5\n",
              "65      5\n",
              "102     5\n",
              "74      5\n",
              "168     5\n",
              "103     5\n",
              "95      5\n",
              "106     4\n",
              "93      4\n",
              "118     4\n",
              "148     4\n",
              "122     4\n",
              "83      3\n",
              "125     3\n",
              "154     3\n",
              "115     3\n",
              "137     3\n",
              "101     3\n",
              "119     2\n",
              "87      2\n",
              "89      2\n",
              "192     2\n",
              "197     2\n",
              "158     2\n",
              "81      2\n",
              "188     2\n",
              "194     2\n",
              "153     2\n",
              "129     2\n",
              "108     2\n",
              "110     2\n",
              "164     2\n",
              "145     2\n",
              "113     2\n",
              "256     1\n",
              "107     1\n",
              "90      1\n",
              "231     1\n",
              "142     1\n",
              "121     1\n",
              "78      1\n",
              "98      1\n",
              "186     1\n",
              "77      1\n",
              "Name: losses, dtype: int64"
            ]
          },
          "metadata": {},
          "execution_count": 18
        }
      ]
    },
    {
      "cell_type": "code",
      "source": [
        "data.losses.describe()"
      ],
      "metadata": {
        "colab": {
          "base_uri": "https://localhost:8080/"
        },
        "id": "xEGyW2U5IhbP",
        "outputId": "be7dc52c-6b42-4ac3-9218-d83f0c55f145"
      },
      "execution_count": 19,
      "outputs": [
        {
          "output_type": "execute_result",
          "data": {
            "text/plain": [
              "count     204\n",
              "unique     52\n",
              "top         ?\n",
              "freq       40\n",
              "Name: losses, dtype: object"
            ]
          },
          "metadata": {},
          "execution_count": 19
        }
      ]
    },
    {
      "cell_type": "code",
      "source": [
        "data.losses.fillna(122,inplace=True)\n",
        "data.losses.head()"
      ],
      "metadata": {
        "colab": {
          "base_uri": "https://localhost:8080/"
        },
        "id": "0R8PUIrg7ra6",
        "outputId": "cbb1b8f7-7222-4b5d-fbcc-fef9e47e2fb1"
      },
      "execution_count": 109,
      "outputs": [
        {
          "output_type": "execute_result",
          "data": {
            "text/plain": [
              "0    122.0\n",
              "1    122.0\n",
              "2    122.0\n",
              "3    164.0\n",
              "4    164.0\n",
              "Name: losses, dtype: float64"
            ]
          },
          "metadata": {},
          "execution_count": 109
        }
      ]
    },
    {
      "cell_type": "code",
      "source": [
        "data.losses.hist(color='pink')"
      ],
      "metadata": {
        "colab": {
          "base_uri": "https://localhost:8080/",
          "height": 282
        },
        "id": "oocMIJeBJSj9",
        "outputId": "46242480-33fe-4433-a5c1-7e4c30411e51"
      },
      "execution_count": 21,
      "outputs": [
        {
          "output_type": "execute_result",
          "data": {
            "text/plain": [
              "<matplotlib.axes._subplots.AxesSubplot at 0x7fedfed0bf50>"
            ]
          },
          "metadata": {},
          "execution_count": 21
        },
        {
          "output_type": "display_data",
          "data": {
            "text/plain": [
              "<Figure size 432x288 with 1 Axes>"
            ],
            "image/png": "[encoded data removed]"
          },
          "metadata": {
            "needs_background": "light"
          }
        }
      ]
    },
    {
      "cell_type": "code",
      "source": [
        "plt.figure(figsize=(30,20))\n",
        "sns.countplot(data.losses)"
      ],
      "metadata": {
        "colab": {
          "base_uri": "https://localhost:8080/",
          "height": 1000
        },
        "id": "YvRY5zjV8YFB",
        "outputId": "9f7e1be4-d77c-4188-fb87-57d38c455691"
      },
      "execution_count": 24,
      "outputs": [
        {
          "output_type": "stream",
          "name": "stderr",
          "text": [
            "/usr/local/lib/python3.7/dist-packages/seaborn/_decorators.py:43: FutureWarning: Pass the following variable as a keyword arg: x. From version 0.12, the only valid positional argument will be `data`, and passing other arguments without an explicit keyword will result in an error or misinterpretation.\n",
            "  FutureWarning\n"
          ]
        },
        {
          "output_type": "execute_result",
          "data": {
            "text/plain": [
              "<matplotlib.axes._subplots.AxesSubplot at 0x7fedfe82bd50>"
            ]
          },
          "metadata": {},
          "execution_count": 24
        },
        {
          "output_type": "display_data",
          "data": {
            "text/plain": [
              "<Figure size 2160x1440 with 1 Axes>"
            ],
            "image/png": "[encoded data removed]"
          },
          "metadata": {
            "needs_background": "light"
          }
        }
      ]
    },
    {
      "cell_type": "code",
      "source": [
        "#make\n",
        "data.make.describe()"
      ],
      "metadata": {
        "colab": {
          "base_uri": "https://localhost:8080/"
        },
        "id": "88Q7Rg7t8rLu",
        "outputId": "e5e02189-b0c6-4df5-a628-957579ea9fa2"
      },
      "execution_count": 25,
      "outputs": [
        {
          "output_type": "execute_result",
          "data": {
            "text/plain": [
              "count        204\n",
              "unique        22\n",
              "top       toyota\n",
              "freq          32\n",
              "Name: make, dtype: object"
            ]
          },
          "metadata": {},
          "execution_count": 25
        }
      ]
    },
    {
      "cell_type": "code",
      "source": [
        "data.make.unique()"
      ],
      "metadata": {
        "colab": {
          "base_uri": "https://localhost:8080/"
        },
        "id": "WCKRFKmKJyMV",
        "outputId": "855a0a1b-33eb-43a0-945d-a43be35a7a7b"
      },
      "execution_count": 26,
      "outputs": [
        {
          "output_type": "execute_result",
          "data": {
            "text/plain": [
              "array(['alfa-romero', 'audi', 'bmw', 'chevrolet', 'dodge', 'honda',\n",
              "       'isuzu', 'jaguar', 'mazda', 'mercedes-benz', 'mercury',\n",
              "       'mitsubishi', 'nissan', 'peugot', 'plymouth', 'porsche', 'renault',\n",
              "       'saab', 'subaru', 'toyota', 'volkswagen', 'volvo'], dtype=object)"
            ]
          },
          "metadata": {},
          "execution_count": 26
        }
      ]
    },
    {
      "cell_type": "code",
      "source": [
        "plt.figure(figsize=(30,20))\n",
        "sns.countplot(data.make)"
      ],
      "metadata": {
        "colab": {
          "base_uri": "https://localhost:8080/",
          "height": 1000
        },
        "id": "NzzEI3HhK0x6",
        "outputId": "1392b1c9-7762-463a-ab9c-a24834a174a2"
      },
      "execution_count": 27,
      "outputs": [
        {
          "output_type": "stream",
          "name": "stderr",
          "text": [
            "/usr/local/lib/python3.7/dist-packages/seaborn/_decorators.py:43: FutureWarning: Pass the following variable as a keyword arg: x. From version 0.12, the only valid positional argument will be `data`, and passing other arguments without an explicit keyword will result in an error or misinterpretation.\n",
            "  FutureWarning\n"
          ]
        },
        {
          "output_type": "execute_result",
          "data": {
            "text/plain": [
              "<matplotlib.axes._subplots.AxesSubplot at 0x7fedfe5049d0>"
            ]
          },
          "metadata": {},
          "execution_count": 27
        },
        {
          "output_type": "display_data",
          "data": {
            "text/plain": [
              "<Figure size 2160x1440 with 1 Axes>"
            ],
            "image/png": "[encoded data removed]"
          },
          "metadata": {
            "needs_background": "light"
          }
        }
      ]
    },
    {
      "cell_type": "code",
      "source": [
        "data.doors.unique()"
      ],
      "metadata": {
        "colab": {
          "base_uri": "https://localhost:8080/"
        },
        "id": "_acMGliRAe9k",
        "outputId": "f8385831-2ed0-4d88-8354-6db8e6bf45b8"
      },
      "execution_count": 29,
      "outputs": [
        {
          "output_type": "execute_result",
          "data": {
            "text/plain": [
              "array(['two', 'four', '?'], dtype=object)"
            ]
          },
          "metadata": {},
          "execution_count": 29
        }
      ]
    },
    {
      "cell_type": "code",
      "source": [
        "data.doors.fillna('four',inplace=True)\n",
        "data.doors.head()"
      ],
      "metadata": {
        "colab": {
          "base_uri": "https://localhost:8080/"
        },
        "id": "Imi4uMwSVh4Y",
        "outputId": "6e66ec49-21c8-4722-b66b-cfca49032f9e"
      },
      "execution_count": 110,
      "outputs": [
        {
          "output_type": "execute_result",
          "data": {
            "text/plain": [
              "0     two\n",
              "1     two\n",
              "2     two\n",
              "3    four\n",
              "4    four\n",
              "Name: doors, dtype: object"
            ]
          },
          "metadata": {},
          "execution_count": 110
        }
      ]
    },
    {
      "cell_type": "code",
      "source": [
        "data.body.describe()"
      ],
      "metadata": {
        "colab": {
          "base_uri": "https://localhost:8080/"
        },
        "id": "0ASSldMLWxEO",
        "outputId": "a4ec87e3-2dbb-4073-806a-32a7e88b82b6"
      },
      "execution_count": 30,
      "outputs": [
        {
          "output_type": "execute_result",
          "data": {
            "text/plain": [
              "count       204\n",
              "unique        5\n",
              "top       sedan\n",
              "freq         96\n",
              "Name: body, dtype: object"
            ]
          },
          "metadata": {},
          "execution_count": 30
        }
      ]
    },
    {
      "cell_type": "code",
      "source": [
        "data.body.unique()"
      ],
      "metadata": {
        "colab": {
          "base_uri": "https://localhost:8080/"
        },
        "id": "_-jeDoSUW2LX",
        "outputId": "001cd56b-4172-4b6b-e0f4-5fdcd58718ab"
      },
      "execution_count": 32,
      "outputs": [
        {
          "output_type": "execute_result",
          "data": {
            "text/plain": [
              "array(['convertible', 'hatchback', 'sedan', 'wagon', 'hardtop'],\n",
              "      dtype=object)"
            ]
          },
          "metadata": {},
          "execution_count": 32
        }
      ]
    },
    {
      "cell_type": "code",
      "source": [
        "sns.countplot(data.body)"
      ],
      "metadata": {
        "colab": {
          "base_uri": "https://localhost:8080/",
          "height": 353
        },
        "id": "O7oCKaKIW_gt",
        "outputId": "2e332bef-ee24-4738-c9f1-14f80bb66cbe"
      },
      "execution_count": 31,
      "outputs": [
        {
          "output_type": "stream",
          "name": "stderr",
          "text": [
            "/usr/local/lib/python3.7/dist-packages/seaborn/_decorators.py:43: FutureWarning: Pass the following variable as a keyword arg: x. From version 0.12, the only valid positional argument will be `data`, and passing other arguments without an explicit keyword will result in an error or misinterpretation.\n",
            "  FutureWarning\n"
          ]
        },
        {
          "output_type": "execute_result",
          "data": {
            "text/plain": [
              "<matplotlib.axes._subplots.AxesSubplot at 0x7fedfe30b050>"
            ]
          },
          "metadata": {},
          "execution_count": 31
        },
        {
          "output_type": "display_data",
          "data": {
            "text/plain": [
              "<Figure size 432x288 with 1 Axes>"
            ],
            "image/png": "[encoded data removed]"
          },
          "metadata": {
            "needs_background": "light"
          }
        }
      ]
    },
    {
      "cell_type": "code",
      "source": [
        "#wheel\n",
        "data.wheels.describe()"
      ],
      "metadata": {
        "colab": {
          "base_uri": "https://localhost:8080/"
        },
        "id": "X9-BFDS0Y6B_",
        "outputId": "3d3be7e1-809d-4312-84ac-b762fee86fe6"
      },
      "execution_count": 33,
      "outputs": [
        {
          "output_type": "execute_result",
          "data": {
            "text/plain": [
              "count     204\n",
              "unique      3\n",
              "top       fwd\n",
              "freq      120\n",
              "Name: wheels, dtype: object"
            ]
          },
          "metadata": {},
          "execution_count": 33
        }
      ]
    },
    {
      "cell_type": "code",
      "source": [
        "data.wheels.value_counts()"
      ],
      "metadata": {
        "colab": {
          "base_uri": "https://localhost:8080/"
        },
        "id": "BiDzNYhjZuLx",
        "outputId": "ece3cc39-3fec-4655-e10c-41304450acef"
      },
      "execution_count": 34,
      "outputs": [
        {
          "output_type": "execute_result",
          "data": {
            "text/plain": [
              "fwd    120\n",
              "rwd     75\n",
              "4wd      9\n",
              "Name: wheels, dtype: int64"
            ]
          },
          "metadata": {},
          "execution_count": 34
        }
      ]
    },
    {
      "cell_type": "code",
      "source": [
        "data.wheels.replace(['4wd','rwd'],['not fwd','not fwd'],inplace=True)\n",
        "sns.countplot(data.wheels)"
      ],
      "metadata": {
        "colab": {
          "base_uri": "https://localhost:8080/",
          "height": 351
        },
        "id": "Z_UQGUpVZ2Dv",
        "outputId": "5b1f1cfe-1f11-4fce-9301-199a15f61f7a"
      },
      "execution_count": 35,
      "outputs": [
        {
          "output_type": "stream",
          "name": "stderr",
          "text": [
            "/usr/local/lib/python3.7/dist-packages/seaborn/_decorators.py:43: FutureWarning: Pass the following variable as a keyword arg: x. From version 0.12, the only valid positional argument will be `data`, and passing other arguments without an explicit keyword will result in an error or misinterpretation.\n",
            "  FutureWarning\n"
          ]
        },
        {
          "output_type": "execute_result",
          "data": {
            "text/plain": [
              "<matplotlib.axes._subplots.AxesSubplot at 0x7fedfe2897d0>"
            ]
          },
          "metadata": {},
          "execution_count": 35
        },
        {
          "output_type": "display_data",
          "data": {
            "text/plain": [
              "<Figure size 432x288 with 1 Axes>"
            ],
            "image/png": "[encoded data removed]"
          },
          "metadata": {
            "needs_background": "light"
          }
        }
      ]
    },
    {
      "cell_type": "code",
      "source": [
        "#engine location\n",
        "data.engineloc.describe()\n",
        "data.engineloc.value_counts()\n",
        "data.engineloc.isnull().sum()"
      ],
      "metadata": {
        "colab": {
          "base_uri": "https://localhost:8080/"
        },
        "id": "6QctDjiSaq3_",
        "outputId": "51ea3561-f4c9-4e07-f7e0-da160a78e364"
      },
      "execution_count": 36,
      "outputs": [
        {
          "output_type": "execute_result",
          "data": {
            "text/plain": [
              "0"
            ]
          },
          "metadata": {},
          "execution_count": 36
        }
      ]
    },
    {
      "cell_type": "code",
      "source": [
        "#wheelbase\n",
        "data.wheelbase.unique()\n"
      ],
      "metadata": {
        "colab": {
          "base_uri": "https://localhost:8080/"
        },
        "id": "Af2C3kO9bsge",
        "outputId": "ed87c077-85df-487e-d06c-a1304568e4c8"
      },
      "execution_count": 37,
      "outputs": [
        {
          "output_type": "execute_result",
          "data": {
            "text/plain": [
              "array([ 88.6,  94.5,  99.8,  99.4, 105.8,  99.5, 101.2, 103.5, 110. ,\n",
              "        88.4,  93.7, 103.3,  95.9,  86.6,  96.5,  94.3,  96. , 113. ,\n",
              "       102. ,  93.1,  95.3,  98.8, 104.9, 106.7, 115.6,  96.6, 120.9,\n",
              "       112. , 102.7,  93. ,  96.3,  95.1,  97.2, 100.4,  91.3,  99.2,\n",
              "       107.9, 114.2, 108. ,  89.5,  98.4,  96.1,  99.1,  93.3,  97. ,\n",
              "        96.9,  95.7, 102.4, 102.9, 104.5,  97.3, 104.3, 109.1])"
            ]
          },
          "metadata": {},
          "execution_count": 37
        }
      ]
    },
    {
      "cell_type": "code",
      "source": [
        "data.wheelbase.isnull().sum()"
      ],
      "metadata": {
        "colab": {
          "base_uri": "https://localhost:8080/"
        },
        "id": "1mYKhVencLM1",
        "outputId": "58b595c7-b5a6-49d5-8f1b-6004a70f1e58"
      },
      "execution_count": 111,
      "outputs": [
        {
          "output_type": "execute_result",
          "data": {
            "text/plain": [
              "0"
            ]
          },
          "metadata": {},
          "execution_count": 111
        }
      ]
    },
    {
      "cell_type": "code",
      "source": [
        "plt.boxplot(data.wheelbase)"
      ],
      "metadata": {
        "colab": {
          "base_uri": "https://localhost:8080/",
          "height": 403
        },
        "id": "oZpY5uMKcRX9",
        "outputId": "ed9b225a-85c0-4aa6-ae1b-0bbf90df42ed"
      },
      "execution_count": 39,
      "outputs": [
        {
          "output_type": "execute_result",
          "data": {
            "text/plain": [
              "{'boxes': [<matplotlib.lines.Line2D at 0x7fedfe194810>],\n",
              " 'caps': [<matplotlib.lines.Line2D at 0x7fedfe1988d0>,\n",
              "  <matplotlib.lines.Line2D at 0x7fedfe198e10>],\n",
              " 'fliers': [<matplotlib.lines.Line2D at 0x7fedfe1a0910>],\n",
              " 'means': [],\n",
              " 'medians': [<matplotlib.lines.Line2D at 0x7fedfe1a03d0>],\n",
              " 'whiskers': [<matplotlib.lines.Line2D at 0x7fedfe194e10>,\n",
              "  <matplotlib.lines.Line2D at 0x7fedfe198390>]}"
            ]
          },
          "metadata": {},
          "execution_count": 39
        },
        {
          "output_type": "display_data",
          "data": {
            "text/plain": [
              "<Figure size 432x288 with 1 Axes>"
            ],
            "image/png": "[encoded data removed]"
          },
          "metadata": {
            "needs_background": "light"
          }
        }
      ]
    },
    {
      "cell_type": "code",
      "source": [
        "stats.shapiro(data.wheelbase)"
      ],
      "metadata": {
        "colab": {
          "base_uri": "https://localhost:8080/"
        },
        "id": "vkiN7sBJcuQ3",
        "outputId": "f3ccf4d1-ed0c-4a1e-9d0d-bf4912b38ea7"
      },
      "execution_count": 40,
      "outputs": [
        {
          "output_type": "execute_result",
          "data": {
            "text/plain": [
              "(0.9084110260009766, 6.726435519688323e-10)"
            ]
          },
          "metadata": {},
          "execution_count": 40
        }
      ]
    },
    {
      "cell_type": "code",
      "source": [
        "plt.hist(data.wheelbase)"
      ],
      "metadata": {
        "colab": {
          "base_uri": "https://localhost:8080/",
          "height": 335
        },
        "id": "sNpJCG7lddgj",
        "outputId": "a5041a8e-27c5-463a-d750-9617a6de0ee6"
      },
      "execution_count": 41,
      "outputs": [
        {
          "output_type": "execute_result",
          "data": {
            "text/plain": [
              "(array([ 7.,  9., 83., 42., 24., 14., 15.,  3.,  6.,  1.]),\n",
              " array([ 86.6 ,  90.03,  93.46,  96.89, 100.32, 103.75, 107.18, 110.61,\n",
              "        114.04, 117.47, 120.9 ]),\n",
              " <a list of 10 Patch objects>)"
            ]
          },
          "metadata": {},
          "execution_count": 41
        },
        {
          "output_type": "display_data",
          "data": {
            "text/plain": [
              "<Figure size 432x288 with 1 Axes>"
            ],
            "image/png": "[encoded data removed]"
          },
          "metadata": {
            "needs_background": "light"
          }
        }
      ]
    },
    {
      "cell_type": "code",
      "source": [
        "#length\n",
        "data.length.describe()\n"
      ],
      "metadata": {
        "colab": {
          "base_uri": "https://localhost:8080/"
        },
        "id": "DS12iY1Ndvk6",
        "outputId": "8f4f011b-c1ed-41ce-c3f5-4bef8da2d6f4"
      },
      "execution_count": 42,
      "outputs": [
        {
          "output_type": "execute_result",
          "data": {
            "text/plain": [
              "count    204.000000\n",
              "mean     174.075000\n",
              "std       12.362123\n",
              "min      141.100000\n",
              "25%      166.300000\n",
              "50%      173.200000\n",
              "75%      183.200000\n",
              "max      208.100000\n",
              "Name: length, dtype: float64"
            ]
          },
          "metadata": {},
          "execution_count": 42
        }
      ]
    },
    {
      "cell_type": "code",
      "source": [
        "plt.boxplot(data.length)"
      ],
      "metadata": {
        "colab": {
          "base_uri": "https://localhost:8080/",
          "height": 403
        },
        "id": "Yecw5z_nd_ge",
        "outputId": "f087a343-1b79-4d4d-e470-03ca2b726d8c"
      },
      "execution_count": 43,
      "outputs": [
        {
          "output_type": "execute_result",
          "data": {
            "text/plain": [
              "{'boxes': [<matplotlib.lines.Line2D at 0x7fedfe09f3d0>],\n",
              " 'caps': [<matplotlib.lines.Line2D at 0x7fedfe0a4450>,\n",
              "  <matplotlib.lines.Line2D at 0x7fedfe0a4990>],\n",
              " 'fliers': [<matplotlib.lines.Line2D at 0x7fedfe0ac490>],\n",
              " 'means': [],\n",
              " 'medians': [<matplotlib.lines.Line2D at 0x7fedfe0a4f10>],\n",
              " 'whiskers': [<matplotlib.lines.Line2D at 0x7fedfe09f990>,\n",
              "  <matplotlib.lines.Line2D at 0x7fedfe09fed0>]}"
            ]
          },
          "metadata": {},
          "execution_count": 43
        },
        {
          "output_type": "display_data",
          "data": {
            "text/plain": [
              "<Figure size 432x288 with 1 Axes>"
            ],
            "image/png": "[encoded data removed]"
          },
          "metadata": {
            "needs_background": "light"
          }
        }
      ]
    },
    {
      "cell_type": "code",
      "source": [
        "plt.hist(data.length)"
      ],
      "metadata": {
        "colab": {
          "base_uri": "https://localhost:8080/",
          "height": 335
        },
        "id": "7Wx117oPegOy",
        "outputId": "95321ce8-9b42-4940-9034-82f44bbfaa39"
      },
      "execution_count": 44,
      "outputs": [
        {
          "output_type": "execute_result",
          "data": {
            "text/plain": [
              "(array([ 3.,  3., 29., 23., 53., 39., 23., 20.,  8.,  3.]),\n",
              " array([141.1, 147.8, 154.5, 161.2, 167.9, 174.6, 181.3, 188. , 194.7,\n",
              "        201.4, 208.1]),\n",
              " <a list of 10 Patch objects>)"
            ]
          },
          "metadata": {},
          "execution_count": 44
        },
        {
          "output_type": "display_data",
          "data": {
            "text/plain": [
              "<Figure size 432x288 with 1 Axes>"
            ],
            "image/png": "[encoded data removed]"
          },
          "metadata": {
            "needs_background": "light"
          }
        }
      ]
    },
    {
      "cell_type": "code",
      "source": [
        "stats.shapiro(data.length)\n",
        "#p value less than alpha.not normally distributed"
      ],
      "metadata": {
        "colab": {
          "base_uri": "https://localhost:8080/"
        },
        "id": "-Duh1gO_el-N",
        "outputId": "af52e287-af25-4a9d-e7b1-7443983d1089"
      },
      "execution_count": 45,
      "outputs": [
        {
          "output_type": "execute_result",
          "data": {
            "text/plain": [
              "(0.9823173880577087, 0.011488121002912521)"
            ]
          },
          "metadata": {},
          "execution_count": 45
        }
      ]
    },
    {
      "cell_type": "code",
      "source": [
        "#width\n",
        "data.width.describe()"
      ],
      "metadata": {
        "colab": {
          "base_uri": "https://localhost:8080/"
        },
        "id": "e6hJN2XrerV6",
        "outputId": "90bab1d6-9ed3-4f6d-9691-4ed88d292f59"
      },
      "execution_count": 46,
      "outputs": [
        {
          "output_type": "execute_result",
          "data": {
            "text/plain": [
              "count    204.000000\n",
              "mean      65.916667\n",
              "std        2.146716\n",
              "min       60.300000\n",
              "25%       64.075000\n",
              "50%       65.500000\n",
              "75%       66.900000\n",
              "max       72.300000\n",
              "Name: width, dtype: float64"
            ]
          },
          "metadata": {},
          "execution_count": 46
        }
      ]
    },
    {
      "cell_type": "code",
      "source": [
        "data.width.value_counts()"
      ],
      "metadata": {
        "colab": {
          "base_uri": "https://localhost:8080/"
        },
        "id": "8zusXnjlfH2G",
        "outputId": "cf408bf3-a611-4964-ead5-11f2d1bcc894"
      },
      "execution_count": 47,
      "outputs": [
        {
          "output_type": "execute_result",
          "data": {
            "text/plain": [
              "63.8    24\n",
              "66.5    23\n",
              "65.4    15\n",
              "63.6    11\n",
              "68.4    10\n",
              "64.4    10\n",
              "64.0     9\n",
              "65.5     8\n",
              "65.2     7\n",
              "64.2     6\n",
              "65.6     6\n",
              "67.2     6\n",
              "66.3     6\n",
              "66.9     5\n",
              "67.9     5\n",
              "68.9     4\n",
              "65.7     4\n",
              "64.8     4\n",
              "65.0     3\n",
              "63.9     3\n",
              "71.4     3\n",
              "70.3     3\n",
              "71.7     3\n",
              "69.6     2\n",
              "64.6     2\n",
              "66.1     2\n",
              "68.3     2\n",
              "67.7     2\n",
              "66.6     1\n",
              "63.4     1\n",
              "72.3     1\n",
              "64.1     1\n",
              "68.0     1\n",
              "72.0     1\n",
              "70.5     1\n",
              "70.6     1\n",
              "61.8     1\n",
              "66.0     1\n",
              "62.5     1\n",
              "60.3     1\n",
              "70.9     1\n",
              "66.4     1\n",
              "66.2     1\n",
              "68.8     1\n",
              "Name: width, dtype: int64"
            ]
          },
          "metadata": {},
          "execution_count": 47
        }
      ]
    },
    {
      "cell_type": "code",
      "source": [
        "plt.boxplot(data.width)"
      ],
      "metadata": {
        "colab": {
          "base_uri": "https://localhost:8080/",
          "height": 403
        },
        "id": "hNha_Lf5fNVr",
        "outputId": "e23084b9-dd59-4e8f-9709-4219f611a066"
      },
      "execution_count": 48,
      "outputs": [
        {
          "output_type": "execute_result",
          "data": {
            "text/plain": [
              "{'boxes': [<matplotlib.lines.Line2D at 0x7fedfdf9fdd0>],\n",
              " 'caps': [<matplotlib.lines.Line2D at 0x7fedfdfa7e90>,\n",
              "  <matplotlib.lines.Line2D at 0x7fedfdfad410>],\n",
              " 'fliers': [<matplotlib.lines.Line2D at 0x7fedfdfaded0>],\n",
              " 'means': [],\n",
              " 'medians': [<matplotlib.lines.Line2D at 0x7fedfdfad990>],\n",
              " 'whiskers': [<matplotlib.lines.Line2D at 0x7fedfdfa7410>,\n",
              "  <matplotlib.lines.Line2D at 0x7fedfdfa7950>]}"
            ]
          },
          "metadata": {},
          "execution_count": 48
        },
        {
          "output_type": "display_data",
          "data": {
            "text/plain": [
              "<Figure size 432x288 with 1 Axes>"
            ],
            "image/png": "[encoded data removed]"
          },
          "metadata": {
            "needs_background": "light"
          }
        }
      ]
    },
    {
      "cell_type": "code",
      "source": [
        "plt.hist(data.width)"
      ],
      "metadata": {
        "colab": {
          "base_uri": "https://localhost:8080/",
          "height": 317
        },
        "id": "SOYx5iHofVjf",
        "outputId": "eb3245c7-7ab1-4cb4-b4be-f741e1b3342d"
      },
      "execution_count": 49,
      "outputs": [
        {
          "output_type": "execute_result",
          "data": {
            "text/plain": [
              "(array([ 1.,  2., 36., 38., 44., 42., 20.,  7.,  6.,  8.]),\n",
              " array([60.3, 61.5, 62.7, 63.9, 65.1, 66.3, 67.5, 68.7, 69.9, 71.1, 72.3]),\n",
              " <a list of 10 Patch objects>)"
            ]
          },
          "metadata": {},
          "execution_count": 49
        },
        {
          "output_type": "display_data",
          "data": {
            "text/plain": [
              "<Figure size 432x288 with 1 Axes>"
            ],
            "image/png": "[encoded data removed]"
          },
          "metadata": {
            "needs_background": "light"
          }
        }
      ]
    },
    {
      "cell_type": "code",
      "source": [
        "stats.shapiro(data.width)\n",
        "#not normally distributed."
      ],
      "metadata": {
        "colab": {
          "base_uri": "https://localhost:8080/"
        },
        "id": "EP4nb3PvfaLl",
        "outputId": "8802bd36-ffc9-4fbe-e8d5-675152aaf6a5"
      },
      "execution_count": 50,
      "outputs": [
        {
          "output_type": "execute_result",
          "data": {
            "text/plain": [
              "(0.9220690727233887, 6.353438664064015e-09)"
            ]
          },
          "metadata": {},
          "execution_count": 50
        }
      ]
    },
    {
      "cell_type": "code",
      "source": [
        "#height\n",
        "data.height.describe()"
      ],
      "metadata": {
        "colab": {
          "base_uri": "https://localhost:8080/"
        },
        "id": "3fXXUiQkfg1Q",
        "outputId": "4109c719-c88c-4d40-d686-cda1905e3607"
      },
      "execution_count": 51,
      "outputs": [
        {
          "output_type": "execute_result",
          "data": {
            "text/plain": [
              "count    204.000000\n",
              "mean      53.749020\n",
              "std        2.424901\n",
              "min       47.800000\n",
              "25%       52.000000\n",
              "50%       54.100000\n",
              "75%       55.500000\n",
              "max       59.800000\n",
              "Name: height, dtype: float64"
            ]
          },
          "metadata": {},
          "execution_count": 51
        }
      ]
    },
    {
      "cell_type": "code",
      "source": [
        "plt.boxplot(data.height)"
      ],
      "metadata": {
        "colab": {
          "base_uri": "https://localhost:8080/",
          "height": 403
        },
        "id": "IK-pef5_fyZo",
        "outputId": "28a2ed36-a025-4d7e-f917-e934c3c39483"
      },
      "execution_count": 52,
      "outputs": [
        {
          "output_type": "execute_result",
          "data": {
            "text/plain": [
              "{'boxes': [<matplotlib.lines.Line2D at 0x7fedfde95e90>],\n",
              " 'caps': [<matplotlib.lines.Line2D at 0x7fedfde9ff50>,\n",
              "  <matplotlib.lines.Line2D at 0x7fedfdea54d0>],\n",
              " 'fliers': [<matplotlib.lines.Line2D at 0x7fedfdea5f90>],\n",
              " 'means': [],\n",
              " 'medians': [<matplotlib.lines.Line2D at 0x7fedfdea5a50>],\n",
              " 'whiskers': [<matplotlib.lines.Line2D at 0x7fedfde9f4d0>,\n",
              "  <matplotlib.lines.Line2D at 0x7fedfde9fa10>]}"
            ]
          },
          "metadata": {},
          "execution_count": 52
        },
        {
          "output_type": "display_data",
          "data": {
            "text/plain": [
              "<Figure size 432x288 with 1 Axes>"
            ],
            "image/png": "[encoded data removed]"
          },
          "metadata": {
            "needs_background": "light"
          }
        }
      ]
    },
    {
      "cell_type": "code",
      "source": [
        "plt.hist(data.height)"
      ],
      "metadata": {
        "colab": {
          "base_uri": "https://localhost:8080/",
          "height": 317
        },
        "id": "tBhvP4DSf6h1",
        "outputId": "5106ea1b-a6a5-418e-b54b-605a01a4fd03"
      },
      "execution_count": 53,
      "outputs": [
        {
          "output_type": "execute_result",
          "data": {
            "text/plain": [
              "(array([ 2.,  9., 28., 25., 33., 41., 38., 15.,  4.,  9.]),\n",
              " array([47.8, 49. , 50.2, 51.4, 52.6, 53.8, 55. , 56.2, 57.4, 58.6, 59.8]),\n",
              " <a list of 10 Patch objects>)"
            ]
          },
          "metadata": {},
          "execution_count": 53
        },
        {
          "output_type": "display_data",
          "data": {
            "text/plain": [
              "<Figure size 432x288 with 1 Axes>"
            ],
            "image/png": "[encoded data removed]"
          },
          "metadata": {
            "needs_background": "light"
          }
        }
      ]
    },
    {
      "cell_type": "code",
      "source": [
        "stats.shapiro(data.height)\n",
        "#not normally distributed."
      ],
      "metadata": {
        "colab": {
          "base_uri": "https://localhost:8080/"
        },
        "id": "Mf5jmSRof6kj",
        "outputId": "536ef300-a800-4730-9043-e56c88fb60ec"
      },
      "execution_count": 54,
      "outputs": [
        {
          "output_type": "execute_result",
          "data": {
            "text/plain": [
              "(0.983646810054779, 0.01813827082514763)"
            ]
          },
          "metadata": {},
          "execution_count": 54
        }
      ]
    },
    {
      "cell_type": "code",
      "source": [
        "#fuel\n",
        "data.fuel.unique()"
      ],
      "metadata": {
        "colab": {
          "base_uri": "https://localhost:8080/"
        },
        "id": "_ZXDZQvZgesq",
        "outputId": "3fb69284-6baa-4439-f8a2-1747089e815d"
      },
      "execution_count": 55,
      "outputs": [
        {
          "output_type": "execute_result",
          "data": {
            "text/plain": [
              "array(['gas', 'diesel'], dtype=object)"
            ]
          },
          "metadata": {},
          "execution_count": 55
        }
      ]
    },
    {
      "cell_type": "code",
      "source": [
        "sns.countplot(data.fuel)"
      ],
      "metadata": {
        "colab": {
          "base_uri": "https://localhost:8080/",
          "height": 351
        },
        "id": "fDIJxKxDhfGC",
        "outputId": "9f80d6ea-9064-4fb8-978a-c7d34dc045aa"
      },
      "execution_count": 56,
      "outputs": [
        {
          "output_type": "stream",
          "name": "stderr",
          "text": [
            "/usr/local/lib/python3.7/dist-packages/seaborn/_decorators.py:43: FutureWarning: Pass the following variable as a keyword arg: x. From version 0.12, the only valid positional argument will be `data`, and passing other arguments without an explicit keyword will result in an error or misinterpretation.\n",
            "  FutureWarning\n"
          ]
        },
        {
          "output_type": "execute_result",
          "data": {
            "text/plain": [
              "<matplotlib.axes._subplots.AxesSubplot at 0x7fedfdddb450>"
            ]
          },
          "metadata": {},
          "execution_count": 56
        },
        {
          "output_type": "display_data",
          "data": {
            "text/plain": [
              "<Figure size 432x288 with 1 Axes>"
            ],
            "image/png": "[encoded data removed]"
          },
          "metadata": {
            "needs_background": "light"
          }
        }
      ]
    },
    {
      "cell_type": "code",
      "source": [
        "#asp\n",
        "data.aspiration.unique()"
      ],
      "metadata": {
        "colab": {
          "base_uri": "https://localhost:8080/"
        },
        "id": "NxABWpGLh6eB",
        "outputId": "62ae925c-a58e-46ca-c921-03e6cc97d00b"
      },
      "execution_count": 57,
      "outputs": [
        {
          "output_type": "execute_result",
          "data": {
            "text/plain": [
              "array(['std', 'turbo'], dtype=object)"
            ]
          },
          "metadata": {},
          "execution_count": 57
        }
      ]
    },
    {
      "cell_type": "code",
      "source": [
        "sns.countplot(data.aspiration)"
      ],
      "metadata": {
        "colab": {
          "base_uri": "https://localhost:8080/",
          "height": 351
        },
        "id": "5eGivUsBiKKf",
        "outputId": "9460faad-2ac0-4aa4-b543-77e841b292d7"
      },
      "execution_count": 58,
      "outputs": [
        {
          "output_type": "stream",
          "name": "stderr",
          "text": [
            "/usr/local/lib/python3.7/dist-packages/seaborn/_decorators.py:43: FutureWarning: Pass the following variable as a keyword arg: x. From version 0.12, the only valid positional argument will be `data`, and passing other arguments without an explicit keyword will result in an error or misinterpretation.\n",
            "  FutureWarning\n"
          ]
        },
        {
          "output_type": "execute_result",
          "data": {
            "text/plain": [
              "<matplotlib.axes._subplots.AxesSubplot at 0x7fedfdebc890>"
            ]
          },
          "metadata": {},
          "execution_count": 58
        },
        {
          "output_type": "display_data",
          "data": {
            "text/plain": [
              "<Figure size 432x288 with 1 Axes>"
            ],
            "image/png": "[encoded data removed]"
          },
          "metadata": {
            "needs_background": "light"
          }
        }
      ]
    },
    {
      "cell_type": "code",
      "source": [
        "#enginetype\n",
        "sns.countplot(data.enginetype)"
      ],
      "metadata": {
        "colab": {
          "base_uri": "https://localhost:8080/",
          "height": 351
        },
        "id": "VMl9S8VeiQat",
        "outputId": "972603fb-289b-4577-8a59-5d34e1fc2005"
      },
      "execution_count": 59,
      "outputs": [
        {
          "output_type": "stream",
          "name": "stderr",
          "text": [
            "/usr/local/lib/python3.7/dist-packages/seaborn/_decorators.py:43: FutureWarning: Pass the following variable as a keyword arg: x. From version 0.12, the only valid positional argument will be `data`, and passing other arguments without an explicit keyword will result in an error or misinterpretation.\n",
            "  FutureWarning\n"
          ]
        },
        {
          "output_type": "execute_result",
          "data": {
            "text/plain": [
              "<matplotlib.axes._subplots.AxesSubplot at 0x7fedfdd0d750>"
            ]
          },
          "metadata": {},
          "execution_count": 59
        },
        {
          "output_type": "display_data",
          "data": {
            "text/plain": [
              "<Figure size 432x288 with 1 Axes>"
            ],
            "image/png": "[encoded data removed]"
          },
          "metadata": {
            "needs_background": "light"
          }
        }
      ]
    },
    {
      "cell_type": "code",
      "source": [
        "#number of cylinders\n",
        "data.numofcylin.value_counts()"
      ],
      "metadata": {
        "colab": {
          "base_uri": "https://localhost:8080/"
        },
        "id": "PUKbBL9ZilMm",
        "outputId": "7b8300c9-1604-4a2f-d5f5-c923ef69f6fc"
      },
      "execution_count": 60,
      "outputs": [
        {
          "output_type": "execute_result",
          "data": {
            "text/plain": [
              "four      158\n",
              "six        24\n",
              "five       11\n",
              "eight       5\n",
              "two         4\n",
              "three       1\n",
              "twelve      1\n",
              "Name: numofcylin, dtype: int64"
            ]
          },
          "metadata": {},
          "execution_count": 60
        }
      ]
    },
    {
      "cell_type": "code",
      "source": [
        "sns.countplot(data.numofcylin)"
      ],
      "metadata": {
        "colab": {
          "base_uri": "https://localhost:8080/",
          "height": 351
        },
        "id": "l66Kiu7hizPi",
        "outputId": "53654891-fcbc-4036-c4e9-01201d4967ae"
      },
      "execution_count": 61,
      "outputs": [
        {
          "output_type": "stream",
          "name": "stderr",
          "text": [
            "/usr/local/lib/python3.7/dist-packages/seaborn/_decorators.py:43: FutureWarning: Pass the following variable as a keyword arg: x. From version 0.12, the only valid positional argument will be `data`, and passing other arguments without an explicit keyword will result in an error or misinterpretation.\n",
            "  FutureWarning\n"
          ]
        },
        {
          "output_type": "execute_result",
          "data": {
            "text/plain": [
              "<matplotlib.axes._subplots.AxesSubplot at 0x7fedfdca3290>"
            ]
          },
          "metadata": {},
          "execution_count": 61
        },
        {
          "output_type": "display_data",
          "data": {
            "text/plain": [
              "<Figure size 432x288 with 1 Axes>"
            ],
            "image/png": "[encoded data removed]"
          },
          "metadata": {
            "needs_background": "light"
          }
        }
      ]
    },
    {
      "cell_type": "code",
      "source": [
        "#enginesize\n",
        "data.engsize.value_counts()"
      ],
      "metadata": {
        "colab": {
          "base_uri": "https://localhost:8080/"
        },
        "id": "D7MF-rW2i96d",
        "outputId": "37e79e6d-bf47-46f6-959c-137d536dd2e3"
      },
      "execution_count": 62,
      "outputs": [
        {
          "output_type": "execute_result",
          "data": {
            "text/plain": [
              "122    15\n",
              "92     15\n",
              "97     14\n",
              "98     14\n",
              "108    13\n",
              "90     12\n",
              "110    12\n",
              "109     8\n",
              "120     7\n",
              "141     7\n",
              "152     6\n",
              "181     6\n",
              "146     6\n",
              "121     6\n",
              "156     5\n",
              "136     5\n",
              "91      5\n",
              "183     4\n",
              "70      3\n",
              "130     3\n",
              "171     3\n",
              "194     3\n",
              "209     3\n",
              "164     3\n",
              "258     2\n",
              "140     2\n",
              "134     2\n",
              "234     2\n",
              "132     2\n",
              "131     2\n",
              "173     1\n",
              "203     1\n",
              "161     1\n",
              "80      1\n",
              "151     1\n",
              "103     1\n",
              "304     1\n",
              "308     1\n",
              "326     1\n",
              "119     1\n",
              "111     1\n",
              "79      1\n",
              "61      1\n",
              "145     1\n",
              "Name: engsize, dtype: int64"
            ]
          },
          "metadata": {},
          "execution_count": 62
        }
      ]
    },
    {
      "cell_type": "code",
      "source": [
        "plt.boxplot(data.engsize)"
      ],
      "metadata": {
        "colab": {
          "base_uri": "https://localhost:8080/",
          "height": 403
        },
        "id": "wVGrtkc3jQtF",
        "outputId": "2e8ebf2f-e018-4bf2-d729-9ccc969b4a42"
      },
      "execution_count": 63,
      "outputs": [
        {
          "output_type": "execute_result",
          "data": {
            "text/plain": [
              "{'boxes': [<matplotlib.lines.Line2D at 0x7fedfdbd9cd0>],\n",
              " 'caps': [<matplotlib.lines.Line2D at 0x7fedfdbe0d50>,\n",
              "  <matplotlib.lines.Line2D at 0x7fedfdbe62d0>],\n",
              " 'fliers': [<matplotlib.lines.Line2D at 0x7fedfdbe6d90>],\n",
              " 'means': [],\n",
              " 'medians': [<matplotlib.lines.Line2D at 0x7fedfdbe6850>],\n",
              " 'whiskers': [<matplotlib.lines.Line2D at 0x7fedfdbe02d0>,\n",
              "  <matplotlib.lines.Line2D at 0x7fedfdbe0810>]}"
            ]
          },
          "metadata": {},
          "execution_count": 63
        },
        {
          "output_type": "display_data",
          "data": {
            "text/plain": [
              "<Figure size 432x288 with 1 Axes>"
            ],
            "image/png": "[encoded data removed]"
          },
          "metadata": {
            "needs_background": "light"
          }
        }
      ]
    },
    {
      "cell_type": "code",
      "source": [
        "plt.hist(data.engsize)"
      ],
      "metadata": {
        "colab": {
          "base_uri": "https://localhost:8080/",
          "height": 335
        },
        "id": "_vftEcvujoW0",
        "outputId": "8e67d971-30df-4354-f927-cc325e0ccede"
      },
      "execution_count": 64,
      "outputs": [
        {
          "output_type": "execute_result",
          "data": {
            "text/plain": [
              "(array([ 6., 95., 45., 30., 14.,  7.,  2.,  2.,  0.,  3.]),\n",
              " array([ 61. ,  87.5, 114. , 140.5, 167. , 193.5, 220. , 246.5, 273. ,\n",
              "        299.5, 326. ]),\n",
              " <a list of 10 Patch objects>)"
            ]
          },
          "metadata": {},
          "execution_count": 64
        },
        {
          "output_type": "display_data",
          "data": {
            "text/plain": [
              "<Figure size 432x288 with 1 Axes>"
            ],
            "image/png": "[encoded data removed]"
          },
          "metadata": {
            "needs_background": "light"
          }
        }
      ]
    },
    {
      "cell_type": "code",
      "source": [
        "stats.shapiro(data.engsize)"
      ],
      "metadata": {
        "colab": {
          "base_uri": "https://localhost:8080/"
        },
        "id": "0pw8G-yEkRgT",
        "outputId": "501dda14-5c58-4160-fb25-efe20502a949"
      },
      "execution_count": 65,
      "outputs": [
        {
          "output_type": "execute_result",
          "data": {
            "text/plain": [
              "(0.8290929198265076, 3.2246473151203645e-14)"
            ]
          },
          "metadata": {},
          "execution_count": 65
        }
      ]
    },
    {
      "cell_type": "code",
      "source": [
        "#fuelsys\n",
        "data.fuelsys.value_counts()\n"
      ],
      "metadata": {
        "colab": {
          "base_uri": "https://localhost:8080/"
        },
        "id": "hMhB5MrGlvZf",
        "outputId": "0e26de96-075f-47a5-e1c6-6000ad98774f"
      },
      "execution_count": 66,
      "outputs": [
        {
          "output_type": "execute_result",
          "data": {
            "text/plain": [
              "mpfi    93\n",
              "2bbl    66\n",
              "idi     20\n",
              "1bbl    11\n",
              "spdi     9\n",
              "4bbl     3\n",
              "mfi      1\n",
              "spfi     1\n",
              "Name: fuelsys, dtype: int64"
            ]
          },
          "metadata": {},
          "execution_count": 66
        }
      ]
    },
    {
      "cell_type": "code",
      "source": [
        "sns.countplot(data.fuelsys)"
      ],
      "metadata": {
        "colab": {
          "base_uri": "https://localhost:8080/",
          "height": 351
        },
        "id": "oPC4Vmbjp38d",
        "outputId": "020e4c1c-0421-4f5c-c576-b2d93b1fcf2d"
      },
      "execution_count": 67,
      "outputs": [
        {
          "output_type": "stream",
          "name": "stderr",
          "text": [
            "/usr/local/lib/python3.7/dist-packages/seaborn/_decorators.py:43: FutureWarning: Pass the following variable as a keyword arg: x. From version 0.12, the only valid positional argument will be `data`, and passing other arguments without an explicit keyword will result in an error or misinterpretation.\n",
            "  FutureWarning\n"
          ]
        },
        {
          "output_type": "execute_result",
          "data": {
            "text/plain": [
              "<matplotlib.axes._subplots.AxesSubplot at 0x7fedfdb85750>"
            ]
          },
          "metadata": {},
          "execution_count": 67
        },
        {
          "output_type": "display_data",
          "data": {
            "text/plain": [
              "<Figure size 432x288 with 1 Axes>"
            ],
            "image/png": "[encoded data removed]"
          },
          "metadata": {
            "needs_background": "light"
          }
        }
      ]
    },
    {
      "cell_type": "code",
      "source": [
        "#bore\n",
        "data.bore.value_counts()\n",
        "\n"
      ],
      "metadata": {
        "colab": {
          "base_uri": "https://localhost:8080/"
        },
        "id": "xGj5eyGmqC9K",
        "outputId": "dd8d6e31-9f50-469c-8c42-bc41ea78b6ad"
      },
      "execution_count": 68,
      "outputs": [
        {
          "output_type": "execute_result",
          "data": {
            "text/plain": [
              "3.62    23\n",
              "3.19    20\n",
              "3.15    15\n",
              "3.03    12\n",
              "2.97    12\n",
              "3.46     9\n",
              "3.31     8\n",
              "3.78     8\n",
              "3.43     8\n",
              "3.27     7\n",
              "2.91     7\n",
              "3.39     6\n",
              "3.54     6\n",
              "3.05     6\n",
              "3.58     6\n",
              "3.70     5\n",
              "3.01     5\n",
              "3.35     4\n",
              "?        4\n",
              "3.17     3\n",
              "3.59     3\n",
              "3.74     3\n",
              "3.94     2\n",
              "3.24     2\n",
              "3.13     2\n",
              "3.63     2\n",
              "3.50     2\n",
              "3.80     2\n",
              "3.33     2\n",
              "3.08     1\n",
              "2.54     1\n",
              "2.99     1\n",
              "3.61     1\n",
              "3.34     1\n",
              "3.60     1\n",
              "2.92     1\n",
              "3.76     1\n",
              "2.68     1\n",
              "3.47     1\n",
              "Name: bore, dtype: int64"
            ]
          },
          "metadata": {},
          "execution_count": 68
        }
      ]
    },
    {
      "cell_type": "code",
      "source": [
        "data.bore.fillna(3.329751,inplace=True)"
      ],
      "metadata": {
        "id": "j_JmPsrLq_TK"
      },
      "execution_count": 112,
      "outputs": []
    },
    {
      "cell_type": "code",
      "source": [
        "plt.hist(data.bore)"
      ],
      "metadata": {
        "colab": {
          "base_uri": "https://localhost:8080/",
          "height": 317
        },
        "id": "5oEKi0JdrtGr",
        "outputId": "02c272e8-4f71-4818-b1da-c6495e4d8156"
      },
      "execution_count": 72,
      "outputs": [
        {
          "output_type": "execute_result",
          "data": {
            "text/plain": [
              "(array([24., 40., 26., 26., 11., 22., 17., 11.,  7., 20.]),\n",
              " array([ 0. ,  3.8,  7.6, 11.4, 15.2, 19. , 22.8, 26.6, 30.4, 34.2, 38. ]),\n",
              " <a list of 10 Patch objects>)"
            ]
          },
          "metadata": {},
          "execution_count": 72
        },
        {
          "output_type": "display_data",
          "data": {
            "text/plain": [
              "<Figure size 432x288 with 1 Axes>"
            ],
            "image/png": "[encoded data removed]"
          },
          "metadata": {
            "needs_background": "light"
          }
        }
      ]
    },
    {
      "cell_type": "code",
      "source": [
        "data.stroke.describe()"
      ],
      "metadata": {
        "colab": {
          "base_uri": "https://localhost:8080/"
        },
        "id": "DhFth4oJr2Nc",
        "outputId": "5b919e6a-75c4-40db-cfb9-bd5937f4f584"
      },
      "execution_count": 71,
      "outputs": [
        {
          "output_type": "execute_result",
          "data": {
            "text/plain": [
              "count      204\n",
              "unique      37\n",
              "top       3.40\n",
              "freq        20\n",
              "Name: stroke, dtype: object"
            ]
          },
          "metadata": {},
          "execution_count": 71
        }
      ]
    },
    {
      "cell_type": "code",
      "source": [
        "data.stroke.value_counts()\n",
        "data.stroke.unique()\n"
      ],
      "metadata": {
        "colab": {
          "base_uri": "https://localhost:8080/"
        },
        "id": "paS7DgWTsxhb",
        "outputId": "ed344c81-0413-4b33-af33-611568eb5e65"
      },
      "execution_count": 73,
      "outputs": [
        {
          "output_type": "execute_result",
          "data": {
            "text/plain": [
              "array(['2.68', '3.47', '3.40', '2.80', '3.19', '3.39', '3.03', '3.11',\n",
              "       '3.23', '3.46', '3.90', '3.41', '3.07', '3.58', '4.17', '2.76',\n",
              "       '3.15', '?', '3.16', '3.64', '3.10', '3.35', '3.12', '3.86',\n",
              "       '3.29', '3.27', '3.52', '2.19', '3.21', '2.90', '2.07', '2.36',\n",
              "       '2.64', '3.08', '3.50', '3.54', '2.87'], dtype=object)"
            ]
          },
          "metadata": {},
          "execution_count": 73
        }
      ]
    },
    {
      "cell_type": "code",
      "source": [
        "#compression\n",
        "data.compression.describe()"
      ],
      "metadata": {
        "colab": {
          "base_uri": "https://localhost:8080/"
        },
        "id": "976qsZB6tG8V",
        "outputId": "a607cf2d-f029-499e-e4ea-81ba27fc97d2"
      },
      "execution_count": 74,
      "outputs": [
        {
          "output_type": "execute_result",
          "data": {
            "text/plain": [
              "count    204.000000\n",
              "mean      10.148137\n",
              "std        3.981000\n",
              "min        7.000000\n",
              "25%        8.575000\n",
              "50%        9.000000\n",
              "75%        9.400000\n",
              "max       23.000000\n",
              "Name: compression, dtype: float64"
            ]
          },
          "metadata": {},
          "execution_count": 74
        }
      ]
    },
    {
      "cell_type": "code",
      "source": [
        "data.compression.fillna(10.142537,inplace=True)\n",
        "plt.boxplot(data.compression)\n",
        "plt.hist(data.compression)"
      ],
      "metadata": {
        "colab": {
          "base_uri": "https://localhost:8080/",
          "height": 317
        },
        "id": "wu0Li9iTtU2d",
        "outputId": "fd3c67d1-bb87-4b3a-9208-53bca136b52a"
      },
      "execution_count": 113,
      "outputs": [
        {
          "output_type": "execute_result",
          "data": {
            "text/plain": [
              "(array([ 51., 133.,   1.,   0.,   0.,   0.,   0.,   0.,   5.,  15.]),\n",
              " array([ 7. ,  8.6, 10.2, 11.8, 13.4, 15. , 16.6, 18.2, 19.8, 21.4, 23. ]),\n",
              " <a list of 10 Patch objects>)"
            ]
          },
          "metadata": {},
          "execution_count": 113
        },
        {
          "output_type": "display_data",
          "data": {
            "text/plain": [
              "<Figure size 432x288 with 1 Axes>"
            ],
            "image/png": "[encoded data removed]"
          },
          "metadata": {
            "needs_background": "light"
          }
        }
      ]
    },
    {
      "cell_type": "code",
      "source": [
        "stats.shapiro(data.compression)\n",
        "#not notrmally distributed"
      ],
      "metadata": {
        "colab": {
          "base_uri": "https://localhost:8080/"
        },
        "id": "irCymNq9t57W",
        "outputId": "f68d262f-f870-4339-c9dc-389ef07d6f47"
      },
      "execution_count": 76,
      "outputs": [
        {
          "output_type": "execute_result",
          "data": {
            "text/plain": [
              "(0.4988579750061035, 9.67905824979766e-24)"
            ]
          },
          "metadata": {},
          "execution_count": 76
        }
      ]
    },
    {
      "cell_type": "code",
      "source": [
        "#horsepower\n",
        "data.horse.describe()\n",
        "data.horse.value_counts()\n"
      ],
      "metadata": {
        "colab": {
          "base_uri": "https://localhost:8080/"
        },
        "id": "15iHgABVuCE8",
        "outputId": "e7b4a9ab-9c29-48b0-8493-a3436fe2ee47"
      },
      "execution_count": 77,
      "outputs": [
        {
          "output_type": "execute_result",
          "data": {
            "text/plain": [
              "68     19\n",
              "70     11\n",
              "69     10\n",
              "116     9\n",
              "110     8\n",
              "95      7\n",
              "114     6\n",
              "160     6\n",
              "101     6\n",
              "62      6\n",
              "88      6\n",
              "76      5\n",
              "82      5\n",
              "97      5\n",
              "84      5\n",
              "145     5\n",
              "102     5\n",
              "123     4\n",
              "92      4\n",
              "86      4\n",
              "73      3\n",
              "207     3\n",
              "111     3\n",
              "90      3\n",
              "85      3\n",
              "182     3\n",
              "121     3\n",
              "152     3\n",
              "56      2\n",
              "112     2\n",
              "94      2\n",
              "161     2\n",
              "156     2\n",
              "52      2\n",
              "?       2\n",
              "162     2\n",
              "155     2\n",
              "184     2\n",
              "100     2\n",
              "176     2\n",
              "55      1\n",
              "262     1\n",
              "134     1\n",
              "115     1\n",
              "140     1\n",
              "48      1\n",
              "58      1\n",
              "60      1\n",
              "78      1\n",
              "135     1\n",
              "200     1\n",
              "64      1\n",
              "120     1\n",
              "72      1\n",
              "154     1\n",
              "288     1\n",
              "143     1\n",
              "142     1\n",
              "175     1\n",
              "106     1\n",
              "Name: horse, dtype: int64"
            ]
          },
          "metadata": {},
          "execution_count": 77
        }
      ]
    },
    {
      "cell_type": "code",
      "source": [
        "data.horse.fillna(104.256158,inplace=True)\n",
        "plt.hist(data.horse)"
      ],
      "metadata": {
        "colab": {
          "base_uri": "https://localhost:8080/",
          "height": 317
        },
        "id": "YYSBo3dRuin1",
        "outputId": "5ecf539a-f054-4efa-d6c0-bb48d2f6622c"
      },
      "execution_count": 114,
      "outputs": [
        {
          "output_type": "execute_result",
          "data": {
            "text/plain": [
              "(array([55., 49., 51., 13., 23.,  8.,  4.,  0.,  1.,  1.]),\n",
              " array([ 48.,  72.,  96., 120., 144., 168., 192., 216., 240., 264., 288.]),\n",
              " <a list of 10 Patch objects>)"
            ]
          },
          "metadata": {},
          "execution_count": 114
        },
        {
          "output_type": "display_data",
          "data": {
            "text/plain": [
              "<Figure size 432x288 with 1 Axes>"
            ],
            "image/png": "[encoded data removed]"
          },
          "metadata": {
            "needs_background": "light"
          }
        }
      ]
    },
    {
      "cell_type": "code",
      "source": [
        "#peak\n",
        "data.peak.describe()\n",
        "data.peak.value_counts()\n",
        "data.peak.isnull().sum()\n"
      ],
      "metadata": {
        "colab": {
          "base_uri": "https://localhost:8080/"
        },
        "id": "FABdN-y8yJuy",
        "outputId": "77070b72-44f6-439c-f501-46ac6ee50673"
      },
      "execution_count": 78,
      "outputs": [
        {
          "output_type": "execute_result",
          "data": {
            "text/plain": [
              "0"
            ]
          },
          "metadata": {},
          "execution_count": 78
        }
      ]
    },
    {
      "cell_type": "code",
      "source": [
        "data.peak.fillna(5125.369525,inplace=True)\n",
        "plt.hist(data.peak)"
      ],
      "metadata": {
        "colab": {
          "base_uri": "https://localhost:8080/",
          "height": 335
        },
        "id": "uBy-AcnuymPP",
        "outputId": "34479e26-16fd-42b8-f326-ff547444fa72"
      },
      "execution_count": 115,
      "outputs": [
        {
          "output_type": "execute_result",
          "data": {
            "text/plain": [
              "(array([17., 10., 41., 33., 31., 51.,  8., 12.,  0.,  2.]),\n",
              " array([4150., 4395., 4640., 4885., 5130., 5375., 5620., 5865., 6110.,\n",
              "        6355., 6600.]),\n",
              " <a list of 10 Patch objects>)"
            ]
          },
          "metadata": {},
          "execution_count": 115
        },
        {
          "output_type": "display_data",
          "data": {
            "text/plain": [
              "<Figure size 432x288 with 1 Axes>"
            ],
            "image/png": "[encoded data removed]"
          },
          "metadata": {
            "needs_background": "light"
          }
        }
      ]
    },
    {
      "cell_type": "code",
      "source": [
        "#citympg\n",
        "data.citympg.describe()"
      ],
      "metadata": {
        "colab": {
          "base_uri": "https://localhost:8080/"
        },
        "id": "xjpB_E3_zMMl",
        "outputId": "088621b9-bf36-4916-fe9c-7cb4735a5091"
      },
      "execution_count": 80,
      "outputs": [
        {
          "output_type": "execute_result",
          "data": {
            "text/plain": [
              "count    204.000000\n",
              "mean      25.240196\n",
              "std        6.551513\n",
              "min       13.000000\n",
              "25%       19.000000\n",
              "50%       24.000000\n",
              "75%       30.000000\n",
              "max       49.000000\n",
              "Name: citympg, dtype: float64"
            ]
          },
          "metadata": {},
          "execution_count": 80
        }
      ]
    },
    {
      "cell_type": "code",
      "source": [
        "plt.boxplot(data.citympg)"
      ],
      "metadata": {
        "colab": {
          "base_uri": "https://localhost:8080/",
          "height": 403
        },
        "id": "5xjaa_b4znL-",
        "outputId": "5440a877-cd4d-4b72-c0cd-0fd2d12fb452"
      },
      "execution_count": 81,
      "outputs": [
        {
          "output_type": "execute_result",
          "data": {
            "text/plain": [
              "{'boxes': [<matplotlib.lines.Line2D at 0x7fedfd7c9850>],\n",
              " 'caps': [<matplotlib.lines.Line2D at 0x7fedfd74f8d0>,\n",
              "  <matplotlib.lines.Line2D at 0x7fedfd74fe10>],\n",
              " 'fliers': [<matplotlib.lines.Line2D at 0x7fedfd757910>],\n",
              " 'means': [],\n",
              " 'medians': [<matplotlib.lines.Line2D at 0x7fedfd7573d0>],\n",
              " 'whiskers': [<matplotlib.lines.Line2D at 0x7fedfd7c9e10>,\n",
              "  <matplotlib.lines.Line2D at 0x7fedfd74f390>]}"
            ]
          },
          "metadata": {},
          "execution_count": 81
        },
        {
          "output_type": "display_data",
          "data": {
            "text/plain": [
              "<Figure size 432x288 with 1 Axes>"
            ],
            "image/png": "[encoded data removed]"
          },
          "metadata": {
            "needs_background": "light"
          }
        }
      ]
    },
    {
      "cell_type": "code",
      "source": [
        "plt.hist(data.citympg)"
      ],
      "metadata": {
        "colab": {
          "base_uri": "https://localhost:8080/",
          "height": 317
        },
        "id": "gjb5xr5_zzEB",
        "outputId": "1f47e301-0b09-4240-cbc4-9e575bf2e726"
      },
      "execution_count": 82,
      "outputs": [
        {
          "output_type": "execute_result",
          "data": {
            "text/plain": [
              "(array([12., 46., 23., 56., 18., 31., 15.,  0.,  1.,  2.]),\n",
              " array([13. , 16.6, 20.2, 23.8, 27.4, 31. , 34.6, 38.2, 41.8, 45.4, 49. ]),\n",
              " <a list of 10 Patch objects>)"
            ]
          },
          "metadata": {},
          "execution_count": 82
        },
        {
          "output_type": "display_data",
          "data": {
            "text/plain": [
              "<Figure size 432x288 with 1 Axes>"
            ],
            "image/png": "[encoded data removed]"
          },
          "metadata": {
            "needs_background": "light"
          }
        }
      ]
    },
    {
      "cell_type": "code",
      "source": [
        "stats.shapiro(data.citympg)\n",
        "#Not normally distributed"
      ],
      "metadata": {
        "colab": {
          "base_uri": "https://localhost:8080/"
        },
        "id": "0eL5iyaz0EEt",
        "outputId": "8fbc910b-3ad7-47b2-a187-1d428f106267"
      },
      "execution_count": 83,
      "outputs": [
        {
          "output_type": "execute_result",
          "data": {
            "text/plain": [
              "(0.9573956727981567, 8.572296792408451e-06)"
            ]
          },
          "metadata": {},
          "execution_count": 83
        }
      ]
    },
    {
      "cell_type": "code",
      "source": [
        "#highwaympg\n",
        "data.highwaympg.describe()\n",
        "data.highwaympg.value_counts"
      ],
      "metadata": {
        "colab": {
          "base_uri": "https://localhost:8080/"
        },
        "id": "tuLifxnn0LaX",
        "outputId": "13c8df95-a76e-4546-89b2-82d82c42a7fe"
      },
      "execution_count": 84,
      "outputs": [
        {
          "output_type": "execute_result",
          "data": {
            "text/plain": [
              "<bound method IndexOpsMixin.value_counts of 0      27\n",
              "1      26\n",
              "2      30\n",
              "3      22\n",
              "4      25\n",
              "       ..\n",
              "199    28\n",
              "200    25\n",
              "201    23\n",
              "202    27\n",
              "203    25\n",
              "Name: highwaympg, Length: 204, dtype: int64>"
            ]
          },
          "metadata": {},
          "execution_count": 84
        }
      ]
    },
    {
      "cell_type": "code",
      "source": [
        "plt.hist(data.highwaympg)"
      ],
      "metadata": {
        "colab": {
          "base_uri": "https://localhost:8080/",
          "height": 317
        },
        "id": "S72vRJtE0eGr",
        "outputId": "af7fbe90-0fcc-483b-9015-e2fb570f0ab8"
      },
      "execution_count": 85,
      "outputs": [
        {
          "output_type": "execute_result",
          "data": {
            "text/plain": [
              "(array([ 7., 17., 43., 47., 39., 32.,  8.,  6.,  3.,  2.]),\n",
              " array([16. , 19.8, 23.6, 27.4, 31.2, 35. , 38.8, 42.6, 46.4, 50.2, 54. ]),\n",
              " <a list of 10 Patch objects>)"
            ]
          },
          "metadata": {},
          "execution_count": 85
        },
        {
          "output_type": "display_data",
          "data": {
            "text/plain": [
              "<Figure size 432x288 with 1 Axes>"
            ],
            "image/png": "[encoded data removed]"
          },
          "metadata": {
            "needs_background": "light"
          }
        }
      ]
    },
    {
      "cell_type": "code",
      "source": [
        "plt.boxplot(data.highwaympg)"
      ],
      "metadata": {
        "colab": {
          "base_uri": "https://localhost:8080/",
          "height": 403
        },
        "id": "vWwQ3nD00lBk",
        "outputId": "9bfe708e-f933-4886-b2e5-c4d5f65db8bd"
      },
      "execution_count": 86,
      "outputs": [
        {
          "output_type": "execute_result",
          "data": {
            "text/plain": [
              "{'boxes': [<matplotlib.lines.Line2D at 0x7fedfd5d0b10>],\n",
              " 'caps': [<matplotlib.lines.Line2D at 0x7fedfd5d6b90>,\n",
              "  <matplotlib.lines.Line2D at 0x7fedfd5df110>],\n",
              " 'fliers': [<matplotlib.lines.Line2D at 0x7fedfd5dfbd0>],\n",
              " 'means': [],\n",
              " 'medians': [<matplotlib.lines.Line2D at 0x7fedfd5df690>],\n",
              " 'whiskers': [<matplotlib.lines.Line2D at 0x7fedfd5d6110>,\n",
              "  <matplotlib.lines.Line2D at 0x7fedfd5d6650>]}"
            ]
          },
          "metadata": {},
          "execution_count": 86
        },
        {
          "output_type": "display_data",
          "data": {
            "text/plain": [
              "<Figure size 432x288 with 1 Axes>"
            ],
            "image/png": "[encoded data removed]"
          },
          "metadata": {
            "needs_background": "light"
          }
        }
      ]
    },
    {
      "cell_type": "code",
      "source": [
        "stats.shapiro(data.highwaympg)\n",
        "#not normally distributed"
      ],
      "metadata": {
        "colab": {
          "base_uri": "https://localhost:8080/"
        },
        "id": "rwl7zTgb0qeG",
        "outputId": "2d54b326-c73a-46ac-fa88-07b18edee30c"
      },
      "execution_count": 87,
      "outputs": [
        {
          "output_type": "execute_result",
          "data": {
            "text/plain": [
              "(0.9736954569816589, 0.0007149461307562888)"
            ]
          },
          "metadata": {},
          "execution_count": 87
        }
      ]
    },
    {
      "cell_type": "code",
      "source": [
        "#price\n",
        "data.price.describe()\n",
        "data.isnull().sum()\n",
        "#drop the null values because price is output.cannot fill the average value as output will be wroung.\n",
        "data.price.fillna(13207.129353,inplace=True)\n",
        "plt.hist(data.price)\n",
        "data.price.value_counts()\n",
        "\n"
      ],
      "metadata": {
        "colab": {
          "base_uri": "https://localhost:8080/",
          "height": 473
        },
        "id": "uLMbKzyI01kg",
        "outputId": "294129d8-b1eb-47f6-a660-e894e6054a95"
      },
      "execution_count": 116,
      "outputs": [
        {
          "output_type": "execute_result",
          "data": {
            "text/plain": [
              "13207.129353    4\n",
              "8921.000000     2\n",
              "18150.000000    2\n",
              "8845.000000     2\n",
              "8495.000000     2\n",
              "               ..\n",
              "45400.000000    1\n",
              "16503.000000    1\n",
              "5389.000000     1\n",
              "6189.000000     1\n",
              "22625.000000    1\n",
              "Name: price, Length: 187, dtype: int64"
            ]
          },
          "metadata": {},
          "execution_count": 116
        },
        {
          "output_type": "display_data",
          "data": {
            "text/plain": [
              "<Figure size 432x288 with 1 Axes>"
            ],
            "image/png": "[encoded data removed]"
          },
          "metadata": {
            "needs_background": "light"
          }
        }
      ]
    },
    {
      "cell_type": "code",
      "source": [
        "y=data.price\n",
        "print(y)"
      ],
      "metadata": {
        "colab": {
          "base_uri": "https://localhost:8080/"
        },
        "id": "sIfNyKHy69Uj",
        "outputId": "2670e941-3d75-4372-fe9c-1c235b37e4d0"
      },
      "execution_count": 136,
      "outputs": [
        {
          "output_type": "stream",
          "name": "stdout",
          "text": [
            "0      13495.0\n",
            "1      16500.0\n",
            "2      16500.0\n",
            "3      13950.0\n",
            "4      17450.0\n",
            "        ...   \n",
            "200    16845.0\n",
            "201    19045.0\n",
            "202    21485.0\n",
            "203    22470.0\n",
            "204    22625.0\n",
            "Name: price, Length: 205, dtype: float64\n"
          ]
        }
      ]
    },
    {
      "cell_type": "code",
      "source": [
        "x=data.drop('price',axis=1)\n",
        "print(x)"
      ],
      "metadata": {
        "colab": {
          "base_uri": "https://localhost:8080/"
        },
        "id": "bfrUKead7EfU",
        "outputId": "ecb89e9a-6208-46fd-c3da-db5bc21069b5"
      },
      "execution_count": 137,
      "outputs": [
        {
          "output_type": "stream",
          "name": "stdout",
          "text": [
            "     symboling  losses         make    fuel aspiration doors         body  \\\n",
            "0            3   122.0  alfa-romero     gas        std   two  convertible   \n",
            "1            3   122.0  alfa-romero     gas        std   two  convertible   \n",
            "2            1   122.0  alfa-romero     gas        std   two    hatchback   \n",
            "3            2   164.0         audi     gas        std  four        sedan   \n",
            "4            2   164.0         audi     gas        std  four        sedan   \n",
            "..         ...     ...          ...     ...        ...   ...          ...   \n",
            "200         -1    95.0        volvo     gas        std  four        sedan   \n",
            "201         -1    95.0        volvo     gas      turbo  four        sedan   \n",
            "202         -1    95.0        volvo     gas        std  four        sedan   \n",
            "203         -1    95.0        volvo  diesel      turbo  four        sedan   \n",
            "204         -1    95.0        volvo     gas      turbo  four        sedan   \n",
            "\n",
            "    wheels engineloc  wheelbase  ...  numofcylin  engsize  fuelsys  bore  \\\n",
            "0      rwd     front       88.6  ...        four      130     mpfi  3.47   \n",
            "1      rwd     front       88.6  ...        four      130     mpfi  3.47   \n",
            "2      rwd     front       94.5  ...         six      152     mpfi  2.68   \n",
            "3      fwd     front       99.8  ...        four      109     mpfi  3.19   \n",
            "4      4wd     front       99.4  ...        five      136     mpfi  3.19   \n",
            "..     ...       ...        ...  ...         ...      ...      ...   ...   \n",
            "200    rwd     front      109.1  ...        four      141     mpfi  3.78   \n",
            "201    rwd     front      109.1  ...        four      141     mpfi  3.78   \n",
            "202    rwd     front      109.1  ...         six      173     mpfi  3.58   \n",
            "203    rwd     front      109.1  ...         six      145      idi  3.01   \n",
            "204    rwd     front      109.1  ...        four      141     mpfi  3.78   \n",
            "\n",
            "    stroke compression  horse    peak  citympg  highwaympg  \n",
            "0     2.68         9.0  111.0  5000.0       21          27  \n",
            "1     2.68         9.0  111.0  5000.0       21          27  \n",
            "2     3.47         9.0  154.0  5000.0       19          26  \n",
            "3     3.40        10.0  102.0  5500.0       24          30  \n",
            "4     3.40         8.0  115.0  5500.0       18          22  \n",
            "..     ...         ...    ...     ...      ...         ...  \n",
            "200   3.15         9.5  114.0  5400.0       23          28  \n",
            "201   3.15         8.7  160.0  5300.0       19          25  \n",
            "202   2.87         8.8  134.0  5500.0       18          23  \n",
            "203   3.40        23.0  106.0  4800.0       26          27  \n",
            "204   3.15         9.5  114.0  5400.0       19          25  \n",
            "\n",
            "[205 rows x 25 columns]\n"
          ]
        }
      ]
    },
    {
      "cell_type": "code",
      "source": [
        ""
      ],
      "metadata": {
        "id": "YB83xOFXzKuN"
      },
      "execution_count": null,
      "outputs": []
    },
    {
      "cell_type": "code",
      "source": [
        "train_y=y.iloc[0:164]\n",
        "print(train_y)\n",
        "test_y=y.iloc[164:]\n",
        "print(test_y)"
      ],
      "metadata": {
        "colab": {
          "base_uri": "https://localhost:8080/"
        },
        "id": "3S7pkign7P2X",
        "outputId": "2563dbe8-92c3-4ff1-a03a-2b7666f01d5c"
      },
      "execution_count": 135,
      "outputs": [
        {
          "output_type": "stream",
          "name": "stdout",
          "text": [
            "0      13495.0\n",
            "1      16500.0\n",
            "2      16500.0\n",
            "3      13950.0\n",
            "4      17450.0\n",
            "        ...   \n",
            "159     7788.0\n",
            "160     7738.0\n",
            "161     8358.0\n",
            "162     9258.0\n",
            "163     8058.0\n",
            "Name: price, Length: 164, dtype: float64\n",
            "164     8238.0\n",
            "165     9298.0\n",
            "166     9538.0\n",
            "167     8449.0\n",
            "168     9639.0\n",
            "169     9989.0\n",
            "170    11199.0\n",
            "171    11549.0\n",
            "172    17669.0\n",
            "173     8948.0\n",
            "174    10698.0\n",
            "175     9988.0\n",
            "176    10898.0\n",
            "177    11248.0\n",
            "178    16558.0\n",
            "179    15998.0\n",
            "180    15690.0\n",
            "181    15750.0\n",
            "182     7775.0\n",
            "183     7975.0\n",
            "184     7995.0\n",
            "185     8195.0\n",
            "186     8495.0\n",
            "187     9495.0\n",
            "188     9995.0\n",
            "189    11595.0\n",
            "190     9980.0\n",
            "191    13295.0\n",
            "192    13845.0\n",
            "193    12290.0\n",
            "194    12940.0\n",
            "195    13415.0\n",
            "196    15985.0\n",
            "197    16515.0\n",
            "198    18420.0\n",
            "199    18950.0\n",
            "200    16845.0\n",
            "201    19045.0\n",
            "202    21485.0\n",
            "203    22470.0\n",
            "204    22625.0\n",
            "Name: price, dtype: float64\n"
          ]
        }
      ]
    },
    {
      "cell_type": "code",
      "source": [
        "train_x=x.iloc[0:164]\n",
        "print(train_x)\n",
        "test_x=x.iloc[164:]\n",
        "print(test_x)"
      ],
      "metadata": {
        "colab": {
          "base_uri": "https://localhost:8080/"
        },
        "id": "H31bGOH1943q",
        "outputId": "f9b0d573-cc90-45df-fe24-df32b0409bf4"
      },
      "execution_count": 138,
      "outputs": [
        {
          "output_type": "stream",
          "name": "stdout",
          "text": [
            "     symboling  losses         make    fuel aspiration doors         body  \\\n",
            "0            3   122.0  alfa-romero     gas        std   two  convertible   \n",
            "1            3   122.0  alfa-romero     gas        std   two  convertible   \n",
            "2            1   122.0  alfa-romero     gas        std   two    hatchback   \n",
            "3            2   164.0         audi     gas        std  four        sedan   \n",
            "4            2   164.0         audi     gas        std  four        sedan   \n",
            "..         ...     ...          ...     ...        ...   ...          ...   \n",
            "159          0    91.0       toyota  diesel        std  four    hatchback   \n",
            "160          0    91.0       toyota     gas        std  four        sedan   \n",
            "161          0    91.0       toyota     gas        std  four    hatchback   \n",
            "162          0    91.0       toyota     gas        std  four        sedan   \n",
            "163          1   168.0       toyota     gas        std   two        sedan   \n",
            "\n",
            "    wheels engineloc  wheelbase  ...  numofcylin  engsize  fuelsys  bore  \\\n",
            "0      rwd     front       88.6  ...        four      130     mpfi  3.47   \n",
            "1      rwd     front       88.6  ...        four      130     mpfi  3.47   \n",
            "2      rwd     front       94.5  ...         six      152     mpfi  2.68   \n",
            "3      fwd     front       99.8  ...        four      109     mpfi  3.19   \n",
            "4      4wd     front       99.4  ...        five      136     mpfi  3.19   \n",
            "..     ...       ...        ...  ...         ...      ...      ...   ...   \n",
            "159    fwd     front       95.7  ...        four      110      idi  3.27   \n",
            "160    fwd     front       95.7  ...        four       98     2bbl  3.19   \n",
            "161    fwd     front       95.7  ...        four       98     2bbl  3.19   \n",
            "162    fwd     front       95.7  ...        four       98     2bbl  3.19   \n",
            "163    rwd     front       94.5  ...        four       98     2bbl  3.19   \n",
            "\n",
            "    stroke compression  horse    peak  citympg  highwaympg  \n",
            "0     2.68         9.0  111.0  5000.0       21          27  \n",
            "1     2.68         9.0  111.0  5000.0       21          27  \n",
            "2     3.47         9.0  154.0  5000.0       19          26  \n",
            "3     3.40        10.0  102.0  5500.0       24          30  \n",
            "4     3.40         8.0  115.0  5500.0       18          22  \n",
            "..     ...         ...    ...     ...      ...         ...  \n",
            "159   3.35        22.5   56.0  4500.0       38          47  \n",
            "160   3.03         9.0   70.0  4800.0       38          47  \n",
            "161   3.03         9.0   70.0  4800.0       28          34  \n",
            "162   3.03         9.0   70.0  4800.0       28          34  \n",
            "163   3.03         9.0   70.0  4800.0       29          34  \n",
            "\n",
            "[164 rows x 25 columns]\n",
            "     symboling  losses        make    fuel aspiration doors         body  \\\n",
            "164          1   168.0      toyota     gas        std   two    hatchback   \n",
            "165          1   168.0      toyota     gas        std   two        sedan   \n",
            "166          1   168.0      toyota     gas        std   two    hatchback   \n",
            "167          2   134.0      toyota     gas        std   two      hardtop   \n",
            "168          2   134.0      toyota     gas        std   two      hardtop   \n",
            "169          2   134.0      toyota     gas        std   two    hatchback   \n",
            "170          2   134.0      toyota     gas        std   two      hardtop   \n",
            "171          2   134.0      toyota     gas        std   two    hatchback   \n",
            "172          2   134.0      toyota     gas        std   two  convertible   \n",
            "173         -1    65.0      toyota     gas        std  four        sedan   \n",
            "174         -1    65.0      toyota  diesel      turbo  four        sedan   \n",
            "175         -1    65.0      toyota     gas        std  four    hatchback   \n",
            "176         -1    65.0      toyota     gas        std  four        sedan   \n",
            "177         -1    65.0      toyota     gas        std  four    hatchback   \n",
            "178          3   197.0      toyota     gas        std   two    hatchback   \n",
            "179          3   197.0      toyota     gas        std   two    hatchback   \n",
            "180         -1    90.0      toyota     gas        std  four        sedan   \n",
            "181         -1   122.0      toyota     gas        std  four        wagon   \n",
            "182          2   122.0  volkswagen  diesel        std   two        sedan   \n",
            "183          2   122.0  volkswagen     gas        std   two        sedan   \n",
            "184          2    94.0  volkswagen  diesel        std  four        sedan   \n",
            "185          2    94.0  volkswagen     gas        std  four        sedan   \n",
            "186          2    94.0  volkswagen     gas        std  four        sedan   \n",
            "187          2    94.0  volkswagen  diesel      turbo  four        sedan   \n",
            "188          2    94.0  volkswagen     gas        std  four        sedan   \n",
            "189          3   122.0  volkswagen     gas        std   two  convertible   \n",
            "190          3   256.0  volkswagen     gas        std   two    hatchback   \n",
            "191          0   122.0  volkswagen     gas        std  four        sedan   \n",
            "192          0   122.0  volkswagen  diesel      turbo  four        sedan   \n",
            "193          0   122.0  volkswagen     gas        std  four        wagon   \n",
            "194         -2   103.0       volvo     gas        std  four        sedan   \n",
            "195         -1    74.0       volvo     gas        std  four        wagon   \n",
            "196         -2   103.0       volvo     gas        std  four        sedan   \n",
            "197         -1    74.0       volvo     gas        std  four        wagon   \n",
            "198         -2   103.0       volvo     gas      turbo  four        sedan   \n",
            "199         -1    74.0       volvo     gas      turbo  four        wagon   \n",
            "200         -1    95.0       volvo     gas        std  four        sedan   \n",
            "201         -1    95.0       volvo     gas      turbo  four        sedan   \n",
            "202         -1    95.0       volvo     gas        std  four        sedan   \n",
            "203         -1    95.0       volvo  diesel      turbo  four        sedan   \n",
            "204         -1    95.0       volvo     gas      turbo  four        sedan   \n",
            "\n",
            "    wheels engineloc  wheelbase  ...  numofcylin  engsize  fuelsys  bore  \\\n",
            "164    rwd     front       94.5  ...        four       98     2bbl  3.19   \n",
            "165    rwd     front       94.5  ...        four       98     mpfi  3.24   \n",
            "166    rwd     front       94.5  ...        four       98     mpfi  3.24   \n",
            "167    rwd     front       98.4  ...        four      146     mpfi  3.62   \n",
            "168    rwd     front       98.4  ...        four      146     mpfi  3.62   \n",
            "169    rwd     front       98.4  ...        four      146     mpfi  3.62   \n",
            "170    rwd     front       98.4  ...        four      146     mpfi  3.62   \n",
            "171    rwd     front       98.4  ...        four      146     mpfi  3.62   \n",
            "172    rwd     front       98.4  ...        four      146     mpfi  3.62   \n",
            "173    fwd     front      102.4  ...        four      122     mpfi  3.31   \n",
            "174    fwd     front      102.4  ...        four      110      idi  3.27   \n",
            "175    fwd     front      102.4  ...        four      122     mpfi  3.31   \n",
            "176    fwd     front      102.4  ...        four      122     mpfi  3.31   \n",
            "177    fwd     front      102.4  ...        four      122     mpfi  3.31   \n",
            "178    rwd     front      102.9  ...         six      171     mpfi  3.27   \n",
            "179    rwd     front      102.9  ...         six      171     mpfi  3.27   \n",
            "180    rwd     front      104.5  ...         six      171     mpfi  3.27   \n",
            "181    rwd     front      104.5  ...         six      161     mpfi  3.27   \n",
            "182    fwd     front       97.3  ...        four       97      idi  3.01   \n",
            "183    fwd     front       97.3  ...        four      109     mpfi  3.19   \n",
            "184    fwd     front       97.3  ...        four       97      idi  3.01   \n",
            "185    fwd     front       97.3  ...        four      109     mpfi  3.19   \n",
            "186    fwd     front       97.3  ...        four      109     mpfi  3.19   \n",
            "187    fwd     front       97.3  ...        four       97      idi  3.01   \n",
            "188    fwd     front       97.3  ...        four      109     mpfi  3.19   \n",
            "189    fwd     front       94.5  ...        four      109     mpfi  3.19   \n",
            "190    fwd     front       94.5  ...        four      109     mpfi  3.19   \n",
            "191    fwd     front      100.4  ...        five      136     mpfi  3.19   \n",
            "192    fwd     front      100.4  ...        four       97      idi  3.01   \n",
            "193    fwd     front      100.4  ...        four      109     mpfi  3.19   \n",
            "194    rwd     front      104.3  ...        four      141     mpfi  3.78   \n",
            "195    rwd     front      104.3  ...        four      141     mpfi  3.78   \n",
            "196    rwd     front      104.3  ...        four      141     mpfi  3.78   \n",
            "197    rwd     front      104.3  ...        four      141     mpfi  3.78   \n",
            "198    rwd     front      104.3  ...        four      130     mpfi  3.62   \n",
            "199    rwd     front      104.3  ...        four      130     mpfi  3.62   \n",
            "200    rwd     front      109.1  ...        four      141     mpfi  3.78   \n",
            "201    rwd     front      109.1  ...        four      141     mpfi  3.78   \n",
            "202    rwd     front      109.1  ...         six      173     mpfi  3.58   \n",
            "203    rwd     front      109.1  ...         six      145      idi  3.01   \n",
            "204    rwd     front      109.1  ...        four      141     mpfi  3.78   \n",
            "\n",
            "    stroke compression  horse    peak  citympg  highwaympg  \n",
            "164   3.03         9.0   70.0  4800.0       29          34  \n",
            "165   3.08         9.4  112.0  6600.0       26          29  \n",
            "166   3.08         9.4  112.0  6600.0       26          29  \n",
            "167   3.50         9.3  116.0  4800.0       24          30  \n",
            "168   3.50         9.3  116.0  4800.0       24          30  \n",
            "169   3.50         9.3  116.0  4800.0       24          30  \n",
            "170   3.50         9.3  116.0  4800.0       24          30  \n",
            "171   3.50         9.3  116.0  4800.0       24          30  \n",
            "172   3.50         9.3  116.0  4800.0       24          30  \n",
            "173   3.54         8.7   92.0  4200.0       29          34  \n",
            "174   3.35        22.5   73.0  4500.0       30          33  \n",
            "175   3.54         8.7   92.0  4200.0       27          32  \n",
            "176   3.54         8.7   92.0  4200.0       27          32  \n",
            "177   3.54         8.7   92.0  4200.0       27          32  \n",
            "178   3.35         9.3  161.0  5200.0       20          24  \n",
            "179   3.35         9.3  161.0  5200.0       19          24  \n",
            "180   3.35         9.2  156.0  5200.0       20          24  \n",
            "181   3.35         9.2  156.0  5200.0       19          24  \n",
            "182   3.40        23.0   52.0  4800.0       37          46  \n",
            "183   3.40         9.0   85.0  5250.0       27          34  \n",
            "184   3.40        23.0   52.0  4800.0       37          46  \n",
            "185   3.40         9.0   85.0  5250.0       27          34  \n",
            "186   3.40         9.0   85.0  5250.0       27          34  \n",
            "187   3.40        23.0   68.0  4500.0       37          42  \n",
            "188   3.40        10.0  100.0  5500.0       26          32  \n",
            "189   3.40         8.5   90.0  5500.0       24          29  \n",
            "190   3.40         8.5   90.0  5500.0       24          29  \n",
            "191   3.40         8.5  110.0  5500.0       19          24  \n",
            "192   3.40        23.0   68.0  4500.0       33          38  \n",
            "193   3.40         9.0   88.0  5500.0       25          31  \n",
            "194   3.15         9.5  114.0  5400.0       23          28  \n",
            "195   3.15         9.5  114.0  5400.0       23          28  \n",
            "196   3.15         9.5  114.0  5400.0       24          28  \n",
            "197   3.15         9.5  114.0  5400.0       24          28  \n",
            "198   3.15         7.5  162.0  5100.0       17          22  \n",
            "199   3.15         7.5  162.0  5100.0       17          22  \n",
            "200   3.15         9.5  114.0  5400.0       23          28  \n",
            "201   3.15         8.7  160.0  5300.0       19          25  \n",
            "202   2.87         8.8  134.0  5500.0       18          23  \n",
            "203   3.40        23.0  106.0  4800.0       26          27  \n",
            "204   3.15         9.5  114.0  5400.0       19          25  \n",
            "\n",
            "[41 rows x 25 columns]\n"
          ]
        }
      ]
    },
    {
      "cell_type": "code",
      "source": [
        "import statsmodels.api as sm\n",
        "x=sm.add_constant(x)"
      ],
      "metadata": {
        "colab": {
          "base_uri": "https://localhost:8080/"
        },
        "id": "DSaGOj6c-Dlw",
        "outputId": "02d0163b-a3aa-423b-a12c-d2261b2fe8ed"
      },
      "execution_count": 93,
      "outputs": [
        {
          "output_type": "stream",
          "name": "stderr",
          "text": [
            "/usr/local/lib/python3.7/dist-packages/statsmodels/tools/_testing.py:19: FutureWarning: pandas.util.testing is deprecated. Use the functions in the public API at pandas.testing instead.\n",
            "  import pandas.util.testing as tm\n",
            "/usr/local/lib/python3.7/dist-packages/statsmodels/tsa/tsatools.py:117: FutureWarning: In a future version of pandas all arguments of concat except for the argument 'objs' will be keyword-only\n",
            "  x = pd.concat(x[::order], 1)\n"
          ]
        }
      ]
    },
    {
      "cell_type": "code",
      "source": [
        "data.price.value_counts()"
      ],
      "metadata": {
        "colab": {
          "base_uri": "https://localhost:8080/"
        },
        "id": "hVxwCy9MzY5-",
        "outputId": "ffa0f63d-99f4-49ec-b6c2-54f3d571ccd5"
      },
      "execution_count": 101,
      "outputs": [
        {
          "output_type": "execute_result",
          "data": {
            "text/plain": [
              "?        4\n",
              "16500    2\n",
              "7775     2\n",
              "7295     2\n",
              "7957     2\n",
              "        ..\n",
              "16503    1\n",
              "5389     1\n",
              "6189     1\n",
              "6669     1\n",
              "22625    1\n",
              "Name: price, Length: 186, dtype: int64"
            ]
          },
          "metadata": {},
          "execution_count": 101
        }
      ]
    },
    {
      "cell_type": "code",
      "source": [
        "from scipy.stats import pearsonr"
      ],
      "metadata": {
        "id": "39dthK9t3bEj"
      },
      "execution_count": 118,
      "outputs": []
    },
    {
      "cell_type": "code",
      "source": [
        "strength=pearsonr(data.wheelbase,data.price)\n",
        "print(strength)"
      ],
      "metadata": {
        "colab": {
          "base_uri": "https://localhost:8080/"
        },
        "id": "MqhrEZrS3sht",
        "outputId": "67b6283d-5fab-4088-db65-34cd4bd47f65"
      },
      "execution_count": 119,
      "outputs": [
        {
          "output_type": "stream",
          "name": "stdout",
          "text": [
            "(0.5831681499791515, 4.5276255455255575e-20)\n"
          ]
        }
      ]
    },
    {
      "cell_type": "code",
      "source": [
        "strength=pearsonr(data.length,data.price)\n",
        "print(strength)"
      ],
      "metadata": {
        "colab": {
          "base_uri": "https://localhost:8080/"
        },
        "id": "8utCjXbh34Eo",
        "outputId": "caaf82f3-e8c7-4e00-8c34-515d582ea4b2"
      },
      "execution_count": 120,
      "outputs": [
        {
          "output_type": "stream",
          "name": "stdout",
          "text": [
            "(0.6829862954389819, 1.649887328966592e-29)\n"
          ]
        }
      ]
    },
    {
      "cell_type": "code",
      "source": [
        "strength=pearsonr(data.width,data.price)\n",
        "print(strength)"
      ],
      "metadata": {
        "colab": {
          "base_uri": "https://localhost:8080/"
        },
        "id": "CNbZLbgK4BmB",
        "outputId": "ace751e0-c6f6-4f60-dd08-94ce25641e80"
      },
      "execution_count": 121,
      "outputs": [
        {
          "output_type": "stream",
          "name": "stdout",
          "text": [
            "(0.728698817592928, 3.2145204840652294e-35)\n"
          ]
        }
      ]
    },
    {
      "cell_type": "code",
      "source": [
        "strength=pearsonr(data.height,data.price)\n",
        "print(strength)"
      ],
      "metadata": {
        "colab": {
          "base_uri": "https://localhost:8080/"
        },
        "id": "Pn6aKfS64Ijl",
        "outputId": "12750447-b9cc-423c-c62d-242010446059"
      },
      "execution_count": 122,
      "outputs": [
        {
          "output_type": "stream",
          "name": "stdout",
          "text": [
            "(0.13438751871101878, 0.05471982048333642)\n"
          ]
        }
      ]
    },
    {
      "cell_type": "code",
      "source": [
        "strength=pearsonr(data.curbwidth,data.price)\n",
        "print(strength)"
      ],
      "metadata": {
        "colab": {
          "base_uri": "https://localhost:8080/"
        },
        "id": "9uubUc6C4N-M",
        "outputId": "6399032b-c7a7-4b2e-ac42-46ddfb4d6e00"
      },
      "execution_count": 123,
      "outputs": [
        {
          "output_type": "stream",
          "name": "stdout",
          "text": [
            "(0.8208247333547348, 2.8663321070185804e-51)\n"
          ]
        }
      ]
    },
    {
      "cell_type": "code",
      "source": [
        "strength=pearsonr(data.engsize,data.price)\n",
        "print(strength)"
      ],
      "metadata": {
        "colab": {
          "base_uri": "https://localhost:8080/"
        },
        "id": "UBxvhQoY4WdK",
        "outputId": "fef1e443-d9fc-4cca-957e-715ba9139558"
      },
      "execution_count": 124,
      "outputs": [
        {
          "output_type": "stream",
          "name": "stdout",
          "text": [
            "(0.8617522436859498, 9.669661923782083e-62)\n"
          ]
        }
      ]
    },
    {
      "cell_type": "code",
      "source": [
        "strength=pearsonr(data.bore,data.price)\n",
        "print(strength)"
      ],
      "metadata": {
        "colab": {
          "base_uri": "https://localhost:8080/"
        },
        "id": "iSZ8bq9P4hQI",
        "outputId": "ca123625-6b6c-4f28-dc0d-1eb2f973361c"
      },
      "execution_count": 125,
      "outputs": [
        {
          "output_type": "stream",
          "name": "stdout",
          "text": [
            "(0.5323000199585453, 2.1398305142063517e-16)\n"
          ]
        }
      ]
    },
    {
      "cell_type": "code",
      "source": [
        "strength=pearsonr(data.compression,data.price)\n",
        "print(strength)"
      ],
      "metadata": {
        "colab": {
          "base_uri": "https://localhost:8080/"
        },
        "id": "9OuVMf5U4wSq",
        "outputId": "7e749fc0-96e9-44b3-a1a2-6a863552e9a7"
      },
      "execution_count": 127,
      "outputs": [
        {
          "output_type": "stream",
          "name": "stdout",
          "text": [
            "(0.07099036277917582, 0.31178249194796)\n"
          ]
        }
      ]
    },
    {
      "cell_type": "code",
      "source": [
        "strength=pearsonr(data.horse,data.price)\n",
        "print(strength)"
      ],
      "metadata": {
        "colab": {
          "base_uri": "https://localhost:8080/"
        },
        "id": "6l2RG37O5GyX",
        "outputId": "b7a484be-7ffc-469e-891c-9546b28fabc2"
      },
      "execution_count": 128,
      "outputs": [
        {
          "output_type": "stream",
          "name": "stdout",
          "text": [
            "(0.7579169537076745, 1.607670422396025e-39)\n"
          ]
        }
      ]
    },
    {
      "cell_type": "code",
      "source": [
        "strength=pearsonr(data.peak,data.price)\n",
        "print(strength)"
      ],
      "metadata": {
        "colab": {
          "base_uri": "https://localhost:8080/"
        },
        "id": "Me9czSn55M9D",
        "outputId": "ceac6d44-5cd9-449b-9d70-4764500acbc0"
      },
      "execution_count": 129,
      "outputs": [
        {
          "output_type": "stream",
          "name": "stdout",
          "text": [
            "(-0.10085406654312225, 0.1501924669763419)\n"
          ]
        }
      ]
    },
    {
      "cell_type": "code",
      "source": [
        "strength=pearsonr(data.citympg,data.price)\n",
        "print(strength)"
      ],
      "metadata": {
        "colab": {
          "base_uri": "https://localhost:8080/"
        },
        "id": "bCMB_PTf5SXC",
        "outputId": "1fe5f519-daac-4452-c9ca-a7b4bd18f573"
      },
      "execution_count": 130,
      "outputs": [
        {
          "output_type": "stream",
          "name": "stdout",
          "text": [
            "(-0.6674492651601811, 8.463700497351762e-28)\n"
          ]
        }
      ]
    },
    {
      "cell_type": "code",
      "source": [
        "strength=pearsonr(data.highwaympg,data.price)\n",
        "print(strength)"
      ],
      "metadata": {
        "colab": {
          "base_uri": "https://localhost:8080/"
        },
        "id": "xa_OP9D35Z_i",
        "outputId": "de50e576-e06a-42fb-9d1e-d5aff66ba77a"
      },
      "execution_count": 132,
      "outputs": [
        {
          "output_type": "stream",
          "name": "stdout",
          "text": [
            "(-0.6905257341186237, 2.2324674056721096e-30)\n"
          ]
        }
      ]
    },
    {
      "cell_type": "code",
      "source": [
        "import statsmodels.api as sm\n",
        "x=sm.add_constant(x)"
      ],
      "metadata": {
        "colab": {
          "base_uri": "https://localhost:8080/"
        },
        "id": "VrvwJDul5mGt",
        "outputId": "11fb7d1b-ec42-4a3f-f425-403aed6164a5"
      },
      "execution_count": 134,
      "outputs": [
        {
          "output_type": "stream",
          "name": "stderr",
          "text": [
            "/usr/local/lib/python3.7/dist-packages/statsmodels/tsa/tsatools.py:117: FutureWarning: In a future version of pandas all arguments of concat except for the argument 'objs' will be keyword-only\n",
            "  x = pd.concat(x[::order], 1)\n"
          ]
        }
      ]
    }
  ]
}